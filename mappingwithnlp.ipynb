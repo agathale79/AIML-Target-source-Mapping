{
 "cells": [
  {
   "cell_type": "code",
   "execution_count": 1,
   "metadata": {
    "ExecuteTime": {
     "end_time": "2021-02-22T04:15:57.642084Z",
     "start_time": "2021-02-22T04:15:47.314470Z"
    },
    "scrolled": true
   },
   "outputs": [
    {
     "output_type": "stream",
     "name": "stdout",
     "text": [
      "MAPPED_TO                object\n",
      "LOGICAL_NAMES            object\n",
      "INFORM_REF_PATH_NAME     object\n",
      "TABLE_ID                  int64\n",
      "TABLE_VER                 int64\n",
      "TABLE_NAME               object\n",
      "TABLE_MAP_ENTITY_ID       int64\n",
      "TABLE_ALIAS              object\n",
      "MODEL_NAME               object\n",
      "COLUMN_ID                 int64\n",
      "COLUMN_VER                int64\n",
      "COLUMN_NAME              object\n",
      "COLUMN_NAMING_NAME       object\n",
      "MAP_STATUS_RC           float64\n",
      "MAP_STATUS              float64\n",
      "STATUS_RC               float64\n",
      "STATUS                  float64\n",
      "COMPANY_ID                int64\n",
      "MAP_ID                    int64\n",
      "MAP_VER                   int64\n",
      "POSITION                  int64\n",
      "PRIMARY_KEY_FLAG         object\n",
      "NULLABLE_FLAG_RC         object\n",
      "DATA_TYPE                object\n",
      "LENGTH                  float64\n",
      "PRECISION               float64\n",
      "MASKING_LEVEL_RC         object\n",
      "MASKING_LEVEL            object\n",
      "MASKING_VALUE            object\n",
      "MASKING_CRITERIA         object\n",
      "IS_TMS_DERIVED           object\n",
      "USED_FLAG                object\n",
      "dtype: object\n",
      "\n",
      "\n",
      "***Shape of dataset \n",
      "(1048001, 32)\n",
      "\n",
      "\n",
      "***Check for null values in given dataset is : True\n",
      "\n",
      "\n",
      "***Statistical Summary \n",
      " \n"
     ]
    },
    {
     "output_type": "execute_result",
     "data": {
      "text/plain": [
       "                         count          mean           std         min  \\\n",
       "TABLE_ID             1048001.0  2.070266e+07  2.995093e+06  15700376.0   \n",
       "TABLE_VER            1048001.0  1.106625e+00  3.245408e-01         1.0   \n",
       "TABLE_MAP_ENTITY_ID  1048001.0  2.151016e+07  3.467732e+06  15700800.0   \n",
       "COLUMN_ID            1048001.0  2.070273e+07  2.995113e+06  15700378.0   \n",
       "COLUMN_VER           1048001.0  1.000190e+00  1.497333e-02         1.0   \n",
       "MAP_STATUS_RC              0.0           NaN           NaN         NaN   \n",
       "MAP_STATUS                 0.0           NaN           NaN         NaN   \n",
       "STATUS_RC                  0.0           NaN           NaN         NaN   \n",
       "STATUS                     0.0           NaN           NaN         NaN   \n",
       "COMPANY_ID           1048001.0  7.700000e+01  0.000000e+00        77.0   \n",
       "MAP_ID               1048001.0  2.150344e+07  3.465338e+06  15700799.0   \n",
       "MAP_VER              1048001.0  1.203679e+00  1.020054e+00         1.0   \n",
       "POSITION             1048001.0  3.114292e+01  3.209170e+01         1.0   \n",
       "LENGTH                777382.0  8.433570e+01  4.708193e+02         1.0   \n",
       "PRECISION                542.0  2.000000e+00  0.000000e+00         2.0   \n",
       "\n",
       "                            25%         50%         75%         max  \n",
       "TABLE_ID             18004347.0  20664440.0  22984009.0  27458799.0  \n",
       "TABLE_VER                   1.0         1.0         1.0         5.0  \n",
       "TABLE_MAP_ENTITY_ID  18285077.0  21555005.0  24348647.0  27459780.0  \n",
       "COLUMN_ID            18004368.0  20664473.0  22984042.0  27458823.0  \n",
       "COLUMN_VER                  1.0         1.0         1.0         4.0  \n",
       "MAP_STATUS_RC               NaN         NaN         NaN         NaN  \n",
       "MAP_STATUS                  NaN         NaN         NaN         NaN  \n",
       "STATUS_RC                   NaN         NaN         NaN         NaN  \n",
       "STATUS                      NaN         NaN         NaN         NaN  \n",
       "COMPANY_ID                 77.0        77.0        77.0        77.0  \n",
       "MAP_ID               18284520.0  21554763.0  24340290.0  27459778.0  \n",
       "MAP_VER                     1.0         1.0         1.0        28.0  \n",
       "POSITION                   10.0        21.0        40.0       390.0  \n",
       "LENGTH                      3.0        12.0        44.0      4000.0  \n",
       "PRECISION                   2.0         2.0         2.0         2.0  "
      ],
      "text/html": "<div>\n<style scoped>\n    .dataframe tbody tr th:only-of-type {\n        vertical-align: middle;\n    }\n\n    .dataframe tbody tr th {\n        vertical-align: top;\n    }\n\n    .dataframe thead th {\n        text-align: right;\n    }\n</style>\n<table border=\"1\" class=\"dataframe\">\n  <thead>\n    <tr style=\"text-align: right;\">\n      <th></th>\n      <th>count</th>\n      <th>mean</th>\n      <th>std</th>\n      <th>min</th>\n      <th>25%</th>\n      <th>50%</th>\n      <th>75%</th>\n      <th>max</th>\n    </tr>\n  </thead>\n  <tbody>\n    <tr>\n      <th>TABLE_ID</th>\n      <td>1048001.0</td>\n      <td>2.070266e+07</td>\n      <td>2.995093e+06</td>\n      <td>15700376.0</td>\n      <td>18004347.0</td>\n      <td>20664440.0</td>\n      <td>22984009.0</td>\n      <td>27458799.0</td>\n    </tr>\n    <tr>\n      <th>TABLE_VER</th>\n      <td>1048001.0</td>\n      <td>1.106625e+00</td>\n      <td>3.245408e-01</td>\n      <td>1.0</td>\n      <td>1.0</td>\n      <td>1.0</td>\n      <td>1.0</td>\n      <td>5.0</td>\n    </tr>\n    <tr>\n      <th>TABLE_MAP_ENTITY_ID</th>\n      <td>1048001.0</td>\n      <td>2.151016e+07</td>\n      <td>3.467732e+06</td>\n      <td>15700800.0</td>\n      <td>18285077.0</td>\n      <td>21555005.0</td>\n      <td>24348647.0</td>\n      <td>27459780.0</td>\n    </tr>\n    <tr>\n      <th>COLUMN_ID</th>\n      <td>1048001.0</td>\n      <td>2.070273e+07</td>\n      <td>2.995113e+06</td>\n      <td>15700378.0</td>\n      <td>18004368.0</td>\n      <td>20664473.0</td>\n      <td>22984042.0</td>\n      <td>27458823.0</td>\n    </tr>\n    <tr>\n      <th>COLUMN_VER</th>\n      <td>1048001.0</td>\n      <td>1.000190e+00</td>\n      <td>1.497333e-02</td>\n      <td>1.0</td>\n      <td>1.0</td>\n      <td>1.0</td>\n      <td>1.0</td>\n      <td>4.0</td>\n    </tr>\n    <tr>\n      <th>MAP_STATUS_RC</th>\n      <td>0.0</td>\n      <td>NaN</td>\n      <td>NaN</td>\n      <td>NaN</td>\n      <td>NaN</td>\n      <td>NaN</td>\n      <td>NaN</td>\n      <td>NaN</td>\n    </tr>\n    <tr>\n      <th>MAP_STATUS</th>\n      <td>0.0</td>\n      <td>NaN</td>\n      <td>NaN</td>\n      <td>NaN</td>\n      <td>NaN</td>\n      <td>NaN</td>\n      <td>NaN</td>\n      <td>NaN</td>\n    </tr>\n    <tr>\n      <th>STATUS_RC</th>\n      <td>0.0</td>\n      <td>NaN</td>\n      <td>NaN</td>\n      <td>NaN</td>\n      <td>NaN</td>\n      <td>NaN</td>\n      <td>NaN</td>\n      <td>NaN</td>\n    </tr>\n    <tr>\n      <th>STATUS</th>\n      <td>0.0</td>\n      <td>NaN</td>\n      <td>NaN</td>\n      <td>NaN</td>\n      <td>NaN</td>\n      <td>NaN</td>\n      <td>NaN</td>\n      <td>NaN</td>\n    </tr>\n    <tr>\n      <th>COMPANY_ID</th>\n      <td>1048001.0</td>\n      <td>7.700000e+01</td>\n      <td>0.000000e+00</td>\n      <td>77.0</td>\n      <td>77.0</td>\n      <td>77.0</td>\n      <td>77.0</td>\n      <td>77.0</td>\n    </tr>\n    <tr>\n      <th>MAP_ID</th>\n      <td>1048001.0</td>\n      <td>2.150344e+07</td>\n      <td>3.465338e+06</td>\n      <td>15700799.0</td>\n      <td>18284520.0</td>\n      <td>21554763.0</td>\n      <td>24340290.0</td>\n      <td>27459778.0</td>\n    </tr>\n    <tr>\n      <th>MAP_VER</th>\n      <td>1048001.0</td>\n      <td>1.203679e+00</td>\n      <td>1.020054e+00</td>\n      <td>1.0</td>\n      <td>1.0</td>\n      <td>1.0</td>\n      <td>1.0</td>\n      <td>28.0</td>\n    </tr>\n    <tr>\n      <th>POSITION</th>\n      <td>1048001.0</td>\n      <td>3.114292e+01</td>\n      <td>3.209170e+01</td>\n      <td>1.0</td>\n      <td>10.0</td>\n      <td>21.0</td>\n      <td>40.0</td>\n      <td>390.0</td>\n    </tr>\n    <tr>\n      <th>LENGTH</th>\n      <td>777382.0</td>\n      <td>8.433570e+01</td>\n      <td>4.708193e+02</td>\n      <td>1.0</td>\n      <td>3.0</td>\n      <td>12.0</td>\n      <td>44.0</td>\n      <td>4000.0</td>\n    </tr>\n    <tr>\n      <th>PRECISION</th>\n      <td>542.0</td>\n      <td>2.000000e+00</td>\n      <td>0.000000e+00</td>\n      <td>2.0</td>\n      <td>2.0</td>\n      <td>2.0</td>\n      <td>2.0</td>\n      <td>2.0</td>\n    </tr>\n  </tbody>\n</table>\n</div>"
     },
     "metadata": {},
     "execution_count": 1
    }
   ],
   "source": [
    "import numpy as np \n",
    "import pandas as pd \n",
    "import matplotlib.pyplot as plt\n",
    "%matplotlib inline \n",
    "import seaborn as sns\n",
    "\n",
    "from sklearn.model_selection import train_test_split\n",
    "from sklearn.linear_model import LinearRegression\n",
    "import warnings\n",
    "warnings.filterwarnings('ignore')\n",
    "from sklearn.metrics import confusion_matrix, recall_score, precision_score, f1_score, roc_auc_score,accuracy_score\n",
    "\n",
    "# Load the data into pandas dataframe\n",
    "bData = pd.read_csv('dmexfmsrccolexportSMcsv.csv')\n",
    "\n",
    "#Print Data type\n",
    "print(bData.dtypes)\n",
    "\n",
    "#Print Shape\n",
    "print('\\n\\n***Shape of dataset ')\n",
    "print(bData.shape)\n",
    "\n",
    "#Are there any nulls\n",
    "print('\\n\\n***Check for null values in given dataset is : '+str(bData.isnull().values.any()))\n",
    "\n",
    "\n",
    "#Print Statistical Summary\n",
    "print('\\n\\n***Statistical Summary \\n ')\n",
    "bData.describe().T"
   ]
  },
  {
   "cell_type": "code",
   "execution_count": 2,
   "metadata": {
    "ExecuteTime": {
     "end_time": "2021-02-22T04:15:57.681024Z",
     "start_time": "2021-02-22T04:15:57.644294Z"
    },
    "scrolled": true
   },
   "outputs": [
    {
     "output_type": "execute_result",
     "data": {
      "text/plain": [
       "                            MAPPED_TO LOGICAL_NAMES INFORM_REF_PATH_NAME  \\\n",
       "0      INFORM_STD.FRMDEM.SITEMNEMONIC           NaN         SITEMNEMONIC   \n",
       "1      INFORM_STD.FRMDEM.SITEMNEMONIC           NaN         SITEMNEMONIC   \n",
       "2      INFORM_STD.FRMDEM.SITEMNEMONIC           NaN         SITEMNEMONIC   \n",
       "3   INFORM_STD.FRMDEM.SUBJECTINITIALS           NaN      SUBJECTINITIALS   \n",
       "4  INFORM_STD.FRMDEM.SUBJECTNUMBERSTR           NaN     SUBJECTNUMBERSTR   \n",
       "\n",
       "   TABLE_ID  TABLE_VER TABLE_NAME  TABLE_MAP_ENTITY_ID TABLE_ALIAS MODEL_NAME  \\\n",
       "0  15796586          1     FRMDEM             15826792         NaN     INFORM   \n",
       "1  15796586          1     FRMDEM             15826792         NaN     INFORM   \n",
       "2  15796586          1     FRMDEM             15826792         NaN     INFORM   \n",
       "3  15796586          1     FRMDEM             15826792         NaN     INFORM   \n",
       "4  15796586          1     FRMDEM             15826792         NaN     INFORM   \n",
       "\n",
       "   COLUMN_ID  ...  NULLABLE_FLAG_RC DATA_TYPE LENGTH  PRECISION  \\\n",
       "0   15796590  ...        $YESNO$YES  VARCHAR2   20.0        NaN   \n",
       "1   15796590  ...        $YESNO$YES  VARCHAR2   20.0        NaN   \n",
       "2   15796590  ...        $YESNO$YES  VARCHAR2   20.0        NaN   \n",
       "3   15796598  ...        $YESNO$YES  VARCHAR2    3.0        NaN   \n",
       "4   15796600  ...        $YESNO$YES  VARCHAR2   20.0        NaN   \n",
       "\n",
       "   MASKING_LEVEL_RC  MASKING_LEVEL  MASKING_VALUE  MASKING_CRITERIA  \\\n",
       "0               NaN            NaN            NaN               NaN   \n",
       "1               NaN            NaN            NaN               NaN   \n",
       "2               NaN            NaN            NaN               NaN   \n",
       "3               NaN            NaN            NaN               NaN   \n",
       "4               NaN            NaN            NaN               NaN   \n",
       "\n",
       "   IS_TMS_DERIVED  USED_FLAG  \n",
       "0               N       Used  \n",
       "1               N       Used  \n",
       "2               N       Used  \n",
       "3               N       Used  \n",
       "4               N       Used  \n",
       "\n",
       "[5 rows x 32 columns]"
      ],
      "text/html": "<div>\n<style scoped>\n    .dataframe tbody tr th:only-of-type {\n        vertical-align: middle;\n    }\n\n    .dataframe tbody tr th {\n        vertical-align: top;\n    }\n\n    .dataframe thead th {\n        text-align: right;\n    }\n</style>\n<table border=\"1\" class=\"dataframe\">\n  <thead>\n    <tr style=\"text-align: right;\">\n      <th></th>\n      <th>MAPPED_TO</th>\n      <th>LOGICAL_NAMES</th>\n      <th>INFORM_REF_PATH_NAME</th>\n      <th>TABLE_ID</th>\n      <th>TABLE_VER</th>\n      <th>TABLE_NAME</th>\n      <th>TABLE_MAP_ENTITY_ID</th>\n      <th>TABLE_ALIAS</th>\n      <th>MODEL_NAME</th>\n      <th>COLUMN_ID</th>\n      <th>...</th>\n      <th>NULLABLE_FLAG_RC</th>\n      <th>DATA_TYPE</th>\n      <th>LENGTH</th>\n      <th>PRECISION</th>\n      <th>MASKING_LEVEL_RC</th>\n      <th>MASKING_LEVEL</th>\n      <th>MASKING_VALUE</th>\n      <th>MASKING_CRITERIA</th>\n      <th>IS_TMS_DERIVED</th>\n      <th>USED_FLAG</th>\n    </tr>\n  </thead>\n  <tbody>\n    <tr>\n      <th>0</th>\n      <td>INFORM_STD.FRMDEM.SITEMNEMONIC</td>\n      <td>NaN</td>\n      <td>SITEMNEMONIC</td>\n      <td>15796586</td>\n      <td>1</td>\n      <td>FRMDEM</td>\n      <td>15826792</td>\n      <td>NaN</td>\n      <td>INFORM</td>\n      <td>15796590</td>\n      <td>...</td>\n      <td>$YESNO$YES</td>\n      <td>VARCHAR2</td>\n      <td>20.0</td>\n      <td>NaN</td>\n      <td>NaN</td>\n      <td>NaN</td>\n      <td>NaN</td>\n      <td>NaN</td>\n      <td>N</td>\n      <td>Used</td>\n    </tr>\n    <tr>\n      <th>1</th>\n      <td>INFORM_STD.FRMDEM.SITEMNEMONIC</td>\n      <td>NaN</td>\n      <td>SITEMNEMONIC</td>\n      <td>15796586</td>\n      <td>1</td>\n      <td>FRMDEM</td>\n      <td>15826792</td>\n      <td>NaN</td>\n      <td>INFORM</td>\n      <td>15796590</td>\n      <td>...</td>\n      <td>$YESNO$YES</td>\n      <td>VARCHAR2</td>\n      <td>20.0</td>\n      <td>NaN</td>\n      <td>NaN</td>\n      <td>NaN</td>\n      <td>NaN</td>\n      <td>NaN</td>\n      <td>N</td>\n      <td>Used</td>\n    </tr>\n    <tr>\n      <th>2</th>\n      <td>INFORM_STD.FRMDEM.SITEMNEMONIC</td>\n      <td>NaN</td>\n      <td>SITEMNEMONIC</td>\n      <td>15796586</td>\n      <td>1</td>\n      <td>FRMDEM</td>\n      <td>15826792</td>\n      <td>NaN</td>\n      <td>INFORM</td>\n      <td>15796590</td>\n      <td>...</td>\n      <td>$YESNO$YES</td>\n      <td>VARCHAR2</td>\n      <td>20.0</td>\n      <td>NaN</td>\n      <td>NaN</td>\n      <td>NaN</td>\n      <td>NaN</td>\n      <td>NaN</td>\n      <td>N</td>\n      <td>Used</td>\n    </tr>\n    <tr>\n      <th>3</th>\n      <td>INFORM_STD.FRMDEM.SUBJECTINITIALS</td>\n      <td>NaN</td>\n      <td>SUBJECTINITIALS</td>\n      <td>15796586</td>\n      <td>1</td>\n      <td>FRMDEM</td>\n      <td>15826792</td>\n      <td>NaN</td>\n      <td>INFORM</td>\n      <td>15796598</td>\n      <td>...</td>\n      <td>$YESNO$YES</td>\n      <td>VARCHAR2</td>\n      <td>3.0</td>\n      <td>NaN</td>\n      <td>NaN</td>\n      <td>NaN</td>\n      <td>NaN</td>\n      <td>NaN</td>\n      <td>N</td>\n      <td>Used</td>\n    </tr>\n    <tr>\n      <th>4</th>\n      <td>INFORM_STD.FRMDEM.SUBJECTNUMBERSTR</td>\n      <td>NaN</td>\n      <td>SUBJECTNUMBERSTR</td>\n      <td>15796586</td>\n      <td>1</td>\n      <td>FRMDEM</td>\n      <td>15826792</td>\n      <td>NaN</td>\n      <td>INFORM</td>\n      <td>15796600</td>\n      <td>...</td>\n      <td>$YESNO$YES</td>\n      <td>VARCHAR2</td>\n      <td>20.0</td>\n      <td>NaN</td>\n      <td>NaN</td>\n      <td>NaN</td>\n      <td>NaN</td>\n      <td>NaN</td>\n      <td>N</td>\n      <td>Used</td>\n    </tr>\n  </tbody>\n</table>\n<p>5 rows × 32 columns</p>\n</div>"
     },
     "metadata": {},
     "execution_count": 2
    }
   ],
   "source": [
    "#Number of unique in each column\n",
    "bData.head()"
   ]
  },
  {
   "cell_type": "code",
   "execution_count": 3,
   "metadata": {
    "ExecuteTime": {
     "end_time": "2021-02-22T04:15:59.859075Z",
     "start_time": "2021-02-22T04:15:57.683359Z"
    }
   },
   "outputs": [
    {
     "output_type": "execute_result",
     "data": {
      "text/plain": [
       "        MAPPED_TO LOGICAL_NAMES  \\\n",
       "66            NaN           NaN   \n",
       "68            NaN           NaN   \n",
       "69            NaN           NaN   \n",
       "71            NaN           NaN   \n",
       "72            NaN           NaN   \n",
       "...           ...           ...   \n",
       "1047988       NaN           NaN   \n",
       "1047989       NaN           NaN   \n",
       "1047990       NaN           NaN   \n",
       "1047993       NaN           NaN   \n",
       "1048000       NaN           NaN   \n",
       "\n",
       "                                      INFORM_REF_PATH_NAME  TABLE_ID  \\\n",
       "66                                                     NaN  15721500   \n",
       "68                                                     NaN  15721500   \n",
       "69                                                     NaN  15721500   \n",
       "71                                                     NaN  15721500   \n",
       "72                                                     NaN  15721500   \n",
       "...                                                    ...       ...   \n",
       "1047988  F:DEMO_RD|~|S:sctDEMO|~|I:RACECCD|~|C:RACECCD!...  23321494   \n",
       "1047989  F:DEMO_RD|~|S:sctDEMO|~|I:RACECCD|~|C:RACECCD!...  23321494   \n",
       "1047990  F:DEMO_RD|~|S:sctDEMO|~|I:RACECCD|~|C:RACECCD!...  23321494   \n",
       "1047993  F:DEMO_RD|~|S:sctRESCREEN|~|I:SUBJRSCR|~|C0:SU...  23321494   \n",
       "1048000                                                NaN  25656342   \n",
       "\n",
       "         TABLE_VER TABLE_NAME  TABLE_MAP_ENTITY_ID TABLE_ALIAS  \\\n",
       "66               2       S_LB             15880281         NaN   \n",
       "68               2       S_LB             15880281         NaN   \n",
       "69               2       S_LB             15880281         NaN   \n",
       "71               2       S_LB             15880281         NaN   \n",
       "72               2       S_LB             15880281         NaN   \n",
       "...            ...        ...                  ...         ...   \n",
       "1047988          1    DEMO_RD             24242797         NaN   \n",
       "1047989          1    DEMO_RD             24201068         NaN   \n",
       "1047990          1    DEMO_RD             24213191         NaN   \n",
       "1047993          1    DEMO_RD             24227671         NaN   \n",
       "1048000          1       S_LB             26037282         NaN   \n",
       "\n",
       "             MODEL_NAME  COLUMN_ID  ...  NULLABLE_FLAG_RC DATA_TYPE LENGTH  \\\n",
       "66                  RM1   15721545  ...        $YESNO$YES  VARCHAR2   16.0   \n",
       "68                  RM1   15721506  ...        $YESNO$YES  VARCHAR2    7.0   \n",
       "69                  RM1   15721506  ...        $YESNO$YES  VARCHAR2    7.0   \n",
       "71                  RM1   15721510  ...        $YESNO$YES  VARCHAR2    2.0   \n",
       "72                  RM1   15721512  ...        $YESNO$YES    NUMBER    NaN   \n",
       "...                 ...        ...  ...               ...       ...    ...   \n",
       "1047988  ONC_INFORM_STD   23321585  ...        $YESNO$YES  VARCHAR2    6.0   \n",
       "1047989  ONC_INFORM_STD   23321589  ...        $YESNO$YES  VARCHAR2    6.0   \n",
       "1047990  ONC_INFORM_STD   23321595  ...        $YESNO$YES  VARCHAR2   41.0   \n",
       "1047993  ONC_INFORM_STD   23321624  ...        $YESNO$YES  VARCHAR2    6.0   \n",
       "1048000            1RM4   25656355  ...        $YESNO$YES  VARCHAR2   38.0   \n",
       "\n",
       "         PRECISION  MASKING_LEVEL_RC  MASKING_LEVEL  MASKING_VALUE  \\\n",
       "66             NaN               NaN            NaN            NaN   \n",
       "68             NaN               NaN            NaN            NaN   \n",
       "69             NaN               NaN            NaN            NaN   \n",
       "71             NaN               NaN            NaN            NaN   \n",
       "72             NaN               NaN            NaN            NaN   \n",
       "...            ...               ...            ...            ...   \n",
       "1047988        NaN               NaN            NaN            NaN   \n",
       "1047989        NaN               NaN            NaN            NaN   \n",
       "1047990        NaN               NaN            NaN            NaN   \n",
       "1047993        NaN               NaN            NaN            NaN   \n",
       "1048000        NaN               NaN            NaN            NaN   \n",
       "\n",
       "         MASKING_CRITERIA  IS_TMS_DERIVED  USED_FLAG  \n",
       "66                    NaN               N       Used  \n",
       "68                    NaN               N       Used  \n",
       "69                    NaN               N       Used  \n",
       "71                    NaN               N       Used  \n",
       "72                    NaN               N       Used  \n",
       "...                   ...             ...        ...  \n",
       "1047988               NaN               N       Used  \n",
       "1047989               NaN               N       Used  \n",
       "1047990               NaN               N       Used  \n",
       "1047993               NaN               N       Used  \n",
       "1048000               NaN               N   Not Used  \n",
       "\n",
       "[781195 rows x 32 columns]"
      ],
      "text/html": "<div>\n<style scoped>\n    .dataframe tbody tr th:only-of-type {\n        vertical-align: middle;\n    }\n\n    .dataframe tbody tr th {\n        vertical-align: top;\n    }\n\n    .dataframe thead th {\n        text-align: right;\n    }\n</style>\n<table border=\"1\" class=\"dataframe\">\n  <thead>\n    <tr style=\"text-align: right;\">\n      <th></th>\n      <th>MAPPED_TO</th>\n      <th>LOGICAL_NAMES</th>\n      <th>INFORM_REF_PATH_NAME</th>\n      <th>TABLE_ID</th>\n      <th>TABLE_VER</th>\n      <th>TABLE_NAME</th>\n      <th>TABLE_MAP_ENTITY_ID</th>\n      <th>TABLE_ALIAS</th>\n      <th>MODEL_NAME</th>\n      <th>COLUMN_ID</th>\n      <th>...</th>\n      <th>NULLABLE_FLAG_RC</th>\n      <th>DATA_TYPE</th>\n      <th>LENGTH</th>\n      <th>PRECISION</th>\n      <th>MASKING_LEVEL_RC</th>\n      <th>MASKING_LEVEL</th>\n      <th>MASKING_VALUE</th>\n      <th>MASKING_CRITERIA</th>\n      <th>IS_TMS_DERIVED</th>\n      <th>USED_FLAG</th>\n    </tr>\n  </thead>\n  <tbody>\n    <tr>\n      <th>66</th>\n      <td>NaN</td>\n      <td>NaN</td>\n      <td>NaN</td>\n      <td>15721500</td>\n      <td>2</td>\n      <td>S_LB</td>\n      <td>15880281</td>\n      <td>NaN</td>\n      <td>RM1</td>\n      <td>15721545</td>\n      <td>...</td>\n      <td>$YESNO$YES</td>\n      <td>VARCHAR2</td>\n      <td>16.0</td>\n      <td>NaN</td>\n      <td>NaN</td>\n      <td>NaN</td>\n      <td>NaN</td>\n      <td>NaN</td>\n      <td>N</td>\n      <td>Used</td>\n    </tr>\n    <tr>\n      <th>68</th>\n      <td>NaN</td>\n      <td>NaN</td>\n      <td>NaN</td>\n      <td>15721500</td>\n      <td>2</td>\n      <td>S_LB</td>\n      <td>15880281</td>\n      <td>NaN</td>\n      <td>RM1</td>\n      <td>15721506</td>\n      <td>...</td>\n      <td>$YESNO$YES</td>\n      <td>VARCHAR2</td>\n      <td>7.0</td>\n      <td>NaN</td>\n      <td>NaN</td>\n      <td>NaN</td>\n      <td>NaN</td>\n      <td>NaN</td>\n      <td>N</td>\n      <td>Used</td>\n    </tr>\n    <tr>\n      <th>69</th>\n      <td>NaN</td>\n      <td>NaN</td>\n      <td>NaN</td>\n      <td>15721500</td>\n      <td>2</td>\n      <td>S_LB</td>\n      <td>15880281</td>\n      <td>NaN</td>\n      <td>RM1</td>\n      <td>15721506</td>\n      <td>...</td>\n      <td>$YESNO$YES</td>\n      <td>VARCHAR2</td>\n      <td>7.0</td>\n      <td>NaN</td>\n      <td>NaN</td>\n      <td>NaN</td>\n      <td>NaN</td>\n      <td>NaN</td>\n      <td>N</td>\n      <td>Used</td>\n    </tr>\n    <tr>\n      <th>71</th>\n      <td>NaN</td>\n      <td>NaN</td>\n      <td>NaN</td>\n      <td>15721500</td>\n      <td>2</td>\n      <td>S_LB</td>\n      <td>15880281</td>\n      <td>NaN</td>\n      <td>RM1</td>\n      <td>15721510</td>\n      <td>...</td>\n      <td>$YESNO$YES</td>\n      <td>VARCHAR2</td>\n      <td>2.0</td>\n      <td>NaN</td>\n      <td>NaN</td>\n      <td>NaN</td>\n      <td>NaN</td>\n      <td>NaN</td>\n      <td>N</td>\n      <td>Used</td>\n    </tr>\n    <tr>\n      <th>72</th>\n      <td>NaN</td>\n      <td>NaN</td>\n      <td>NaN</td>\n      <td>15721500</td>\n      <td>2</td>\n      <td>S_LB</td>\n      <td>15880281</td>\n      <td>NaN</td>\n      <td>RM1</td>\n      <td>15721512</td>\n      <td>...</td>\n      <td>$YESNO$YES</td>\n      <td>NUMBER</td>\n      <td>NaN</td>\n      <td>NaN</td>\n      <td>NaN</td>\n      <td>NaN</td>\n      <td>NaN</td>\n      <td>NaN</td>\n      <td>N</td>\n      <td>Used</td>\n    </tr>\n    <tr>\n      <th>...</th>\n      <td>...</td>\n      <td>...</td>\n      <td>...</td>\n      <td>...</td>\n      <td>...</td>\n      <td>...</td>\n      <td>...</td>\n      <td>...</td>\n      <td>...</td>\n      <td>...</td>\n      <td>...</td>\n      <td>...</td>\n      <td>...</td>\n      <td>...</td>\n      <td>...</td>\n      <td>...</td>\n      <td>...</td>\n      <td>...</td>\n      <td>...</td>\n      <td>...</td>\n      <td>...</td>\n    </tr>\n    <tr>\n      <th>1047988</th>\n      <td>NaN</td>\n      <td>NaN</td>\n      <td>F:DEMO_RD|~|S:sctDEMO|~|I:RACECCD|~|C:RACECCD!...</td>\n      <td>23321494</td>\n      <td>1</td>\n      <td>DEMO_RD</td>\n      <td>24242797</td>\n      <td>NaN</td>\n      <td>ONC_INFORM_STD</td>\n      <td>23321585</td>\n      <td>...</td>\n      <td>$YESNO$YES</td>\n      <td>VARCHAR2</td>\n      <td>6.0</td>\n      <td>NaN</td>\n      <td>NaN</td>\n      <td>NaN</td>\n      <td>NaN</td>\n      <td>NaN</td>\n      <td>N</td>\n      <td>Used</td>\n    </tr>\n    <tr>\n      <th>1047989</th>\n      <td>NaN</td>\n      <td>NaN</td>\n      <td>F:DEMO_RD|~|S:sctDEMO|~|I:RACECCD|~|C:RACECCD!...</td>\n      <td>23321494</td>\n      <td>1</td>\n      <td>DEMO_RD</td>\n      <td>24201068</td>\n      <td>NaN</td>\n      <td>ONC_INFORM_STD</td>\n      <td>23321589</td>\n      <td>...</td>\n      <td>$YESNO$YES</td>\n      <td>VARCHAR2</td>\n      <td>6.0</td>\n      <td>NaN</td>\n      <td>NaN</td>\n      <td>NaN</td>\n      <td>NaN</td>\n      <td>NaN</td>\n      <td>N</td>\n      <td>Used</td>\n    </tr>\n    <tr>\n      <th>1047990</th>\n      <td>NaN</td>\n      <td>NaN</td>\n      <td>F:DEMO_RD|~|S:sctDEMO|~|I:RACECCD|~|C:RACECCD!...</td>\n      <td>23321494</td>\n      <td>1</td>\n      <td>DEMO_RD</td>\n      <td>24213191</td>\n      <td>NaN</td>\n      <td>ONC_INFORM_STD</td>\n      <td>23321595</td>\n      <td>...</td>\n      <td>$YESNO$YES</td>\n      <td>VARCHAR2</td>\n      <td>41.0</td>\n      <td>NaN</td>\n      <td>NaN</td>\n      <td>NaN</td>\n      <td>NaN</td>\n      <td>NaN</td>\n      <td>N</td>\n      <td>Used</td>\n    </tr>\n    <tr>\n      <th>1047993</th>\n      <td>NaN</td>\n      <td>NaN</td>\n      <td>F:DEMO_RD|~|S:sctRESCREEN|~|I:SUBJRSCR|~|C0:SU...</td>\n      <td>23321494</td>\n      <td>1</td>\n      <td>DEMO_RD</td>\n      <td>24227671</td>\n      <td>NaN</td>\n      <td>ONC_INFORM_STD</td>\n      <td>23321624</td>\n      <td>...</td>\n      <td>$YESNO$YES</td>\n      <td>VARCHAR2</td>\n      <td>6.0</td>\n      <td>NaN</td>\n      <td>NaN</td>\n      <td>NaN</td>\n      <td>NaN</td>\n      <td>NaN</td>\n      <td>N</td>\n      <td>Used</td>\n    </tr>\n    <tr>\n      <th>1048000</th>\n      <td>NaN</td>\n      <td>NaN</td>\n      <td>NaN</td>\n      <td>25656342</td>\n      <td>1</td>\n      <td>S_LB</td>\n      <td>26037282</td>\n      <td>NaN</td>\n      <td>1RM4</td>\n      <td>25656355</td>\n      <td>...</td>\n      <td>$YESNO$YES</td>\n      <td>VARCHAR2</td>\n      <td>38.0</td>\n      <td>NaN</td>\n      <td>NaN</td>\n      <td>NaN</td>\n      <td>NaN</td>\n      <td>NaN</td>\n      <td>N</td>\n      <td>Not Used</td>\n    </tr>\n  </tbody>\n</table>\n<p>781195 rows × 32 columns</p>\n</div>"
     },
     "metadata": {},
     "execution_count": 3
    }
   ],
   "source": [
    "bData[bData['MAPPED_TO'].map(type) != str]"
   ]
  },
  {
   "cell_type": "code",
   "execution_count": 4,
   "metadata": {
    "ExecuteTime": {
     "end_time": "2021-02-22T04:16:00.047055Z",
     "start_time": "2021-02-22T04:15:59.861381Z"
    }
   },
   "outputs": [],
   "source": [
    "bData = bData[bData['MAPPED_TO'].notna()]"
   ]
  },
  {
   "cell_type": "code",
   "execution_count": 5,
   "metadata": {
    "ExecuteTime": {
     "end_time": "2021-02-22T04:16:00.170174Z",
     "start_time": "2021-02-22T04:16:00.049139Z"
    }
   },
   "outputs": [
    {
     "output_type": "execute_result",
     "data": {
      "text/plain": [
       "Empty DataFrame\n",
       "Columns: [MAPPED_TO, LOGICAL_NAMES, INFORM_REF_PATH_NAME, TABLE_ID, TABLE_VER, TABLE_NAME, TABLE_MAP_ENTITY_ID, TABLE_ALIAS, MODEL_NAME, COLUMN_ID, COLUMN_VER, COLUMN_NAME, COLUMN_NAMING_NAME, MAP_STATUS_RC, MAP_STATUS, STATUS_RC, STATUS, COMPANY_ID, MAP_ID, MAP_VER, POSITION, PRIMARY_KEY_FLAG, NULLABLE_FLAG_RC, DATA_TYPE, LENGTH, PRECISION, MASKING_LEVEL_RC, MASKING_LEVEL, MASKING_VALUE, MASKING_CRITERIA, IS_TMS_DERIVED, USED_FLAG]\n",
       "Index: []\n",
       "\n",
       "[0 rows x 32 columns]"
      ],
      "text/html": "<div>\n<style scoped>\n    .dataframe tbody tr th:only-of-type {\n        vertical-align: middle;\n    }\n\n    .dataframe tbody tr th {\n        vertical-align: top;\n    }\n\n    .dataframe thead th {\n        text-align: right;\n    }\n</style>\n<table border=\"1\" class=\"dataframe\">\n  <thead>\n    <tr style=\"text-align: right;\">\n      <th></th>\n      <th>MAPPED_TO</th>\n      <th>LOGICAL_NAMES</th>\n      <th>INFORM_REF_PATH_NAME</th>\n      <th>TABLE_ID</th>\n      <th>TABLE_VER</th>\n      <th>TABLE_NAME</th>\n      <th>TABLE_MAP_ENTITY_ID</th>\n      <th>TABLE_ALIAS</th>\n      <th>MODEL_NAME</th>\n      <th>COLUMN_ID</th>\n      <th>...</th>\n      <th>NULLABLE_FLAG_RC</th>\n      <th>DATA_TYPE</th>\n      <th>LENGTH</th>\n      <th>PRECISION</th>\n      <th>MASKING_LEVEL_RC</th>\n      <th>MASKING_LEVEL</th>\n      <th>MASKING_VALUE</th>\n      <th>MASKING_CRITERIA</th>\n      <th>IS_TMS_DERIVED</th>\n      <th>USED_FLAG</th>\n    </tr>\n  </thead>\n  <tbody>\n  </tbody>\n</table>\n<p>0 rows × 32 columns</p>\n</div>"
     },
     "metadata": {},
     "execution_count": 5
    }
   ],
   "source": [
    "bData[bData['MAPPED_TO'].map(type) != str]"
   ]
  },
  {
   "cell_type": "code",
   "execution_count": 7,
   "metadata": {
    "ExecuteTime": {
     "end_time": "2021-02-22T04:16:08.053425Z",
     "start_time": "2021-02-22T04:16:00.172095Z"
    }
   },
   "outputs": [],
   "source": [
    "# Keep Table name and column name , remove any/all model reference from mapped_to column\n",
    "for i in bData.index:\n",
    "    mapto = bData.at[i, 'MAPPED_TO']\n",
    "    if isinstance(mapto, str) :\n",
    "        lst=mapto.split('.')\n",
    "        trucidx=len(lst)-2        \n",
    "        bData.at[i, 'MAPPED_TO']= '.'.join(lst[trucidx:])"
   ]
  },
  {
   "cell_type": "code",
   "execution_count": 8,
   "metadata": {
    "ExecuteTime": {
     "end_time": "2021-02-22T04:16:08.609803Z",
     "start_time": "2021-02-22T04:16:08.095647Z"
    }
   },
   "outputs": [
    {
     "output_type": "execute_result",
     "data": {
      "text/plain": [
       "MAPPED_TO                17444\n",
       "LOGICAL_NAMES               22\n",
       "INFORM_REF_PATH_NAME      7818\n",
       "TABLE_ID                 13089\n",
       "TABLE_VER                    5\n",
       "TABLE_NAME                 399\n",
       "TABLE_MAP_ENTITY_ID      16336\n",
       "TABLE_ALIAS                  2\n",
       "MODEL_NAME                 259\n",
       "COLUMN_ID               212054\n",
       "COLUMN_VER                   4\n",
       "COLUMN_NAME               7575\n",
       "COLUMN_NAMING_NAME        9129\n",
       "MAP_STATUS_RC                0\n",
       "MAP_STATUS                   0\n",
       "STATUS_RC                    0\n",
       "STATUS                       0\n",
       "COMPANY_ID                   1\n",
       "MAP_ID                   14919\n",
       "MAP_VER                     28\n",
       "POSITION                   387\n",
       "PRIMARY_KEY_FLAG             2\n",
       "NULLABLE_FLAG_RC             2\n",
       "DATA_TYPE                    3\n",
       "LENGTH                     102\n",
       "PRECISION                    1\n",
       "MASKING_LEVEL_RC             2\n",
       "MASKING_LEVEL                2\n",
       "MASKING_VALUE               21\n",
       "MASKING_CRITERIA             3\n",
       "IS_TMS_DERIVED               2\n",
       "USED_FLAG                    2\n",
       "dtype: int64"
      ]
     },
     "metadata": {},
     "execution_count": 8
    }
   ],
   "source": [
    "bData.nunique()"
   ]
  },
  {
   "cell_type": "code",
   "execution_count": 9,
   "metadata": {},
   "outputs": [
    {
     "output_type": "execute_result",
     "data": {
      "text/plain": [
       "Index(['MAPPED_TO', 'LOGICAL_NAMES', 'INFORM_REF_PATH_NAME', 'TABLE_ID',\n",
       "       'TABLE_VER', 'TABLE_NAME', 'TABLE_MAP_ENTITY_ID', 'TABLE_ALIAS',\n",
       "       'MODEL_NAME', 'COLUMN_ID', 'COLUMN_VER', 'COLUMN_NAME',\n",
       "       'COLUMN_NAMING_NAME', 'MAP_STATUS_RC', 'MAP_STATUS', 'STATUS_RC',\n",
       "       'STATUS', 'COMPANY_ID', 'MAP_ID', 'MAP_VER', 'POSITION',\n",
       "       'PRIMARY_KEY_FLAG', 'NULLABLE_FLAG_RC', 'DATA_TYPE', 'LENGTH',\n",
       "       'PRECISION', 'MASKING_LEVEL_RC', 'MASKING_LEVEL', 'MASKING_VALUE',\n",
       "       'MASKING_CRITERIA', 'IS_TMS_DERIVED', 'USED_FLAG'],\n",
       "      dtype='object')"
      ]
     },
     "metadata": {},
     "execution_count": 9
    }
   ],
   "source": [
    "bData.columns"
   ]
  },
  {
   "cell_type": "markdown",
   "metadata": {},
   "source": [
    "### Drop all id columns"
   ]
  },
  {
   "cell_type": "code",
   "execution_count": 10,
   "metadata": {
    "ExecuteTime": {
     "end_time": "2021-02-22T04:16:08.959692Z",
     "start_time": "2021-02-22T04:16:08.612888Z"
    }
   },
   "outputs": [],
   "source": [
    "bData.drop(['MAP_STATUS_RC', 'MAP_STATUS','STATUS_RC','STATUS','COMPANY_ID','TABLE_ID','TABLE_VER','TABLE_MAP_ENTITY_ID'], axis=1, inplace=True)\n",
    "bData.drop(['LOGICAL_NAMES', 'TABLE_ALIAS'], axis=1, inplace=True)\n",
    "bData.drop(['COLUMN_ID','COLUMN_VER'], axis=1, inplace=True)\n",
    "bData.drop(['MASKING_LEVEL_RC', 'MASKING_LEVEL','MASKING_VALUE','MASKING_CRITERIA','IS_TMS_DERIVED'], axis=1, inplace=True)\n",
    "bData.drop(['MAP_ID','MAP_VER'], axis=1, inplace=True)\n",
    "bData.drop(['INFORM_REF_PATH_NAME','MODEL_NAME','COLUMN_NAMING_NAME'], axis=1, inplace=True)"
   ]
  },
  {
   "cell_type": "code",
   "execution_count": 11,
   "metadata": {
    "ExecuteTime": {
     "end_time": "2021-02-22T04:16:09.214810Z",
     "start_time": "2021-02-22T04:16:09.022897Z"
    }
   },
   "outputs": [
    {
     "output_type": "execute_result",
     "data": {
      "text/plain": [
       "MAPPED_TO           17444\n",
       "TABLE_NAME            399\n",
       "COLUMN_NAME          7575\n",
       "POSITION              387\n",
       "PRIMARY_KEY_FLAG        2\n",
       "NULLABLE_FLAG_RC        2\n",
       "DATA_TYPE               3\n",
       "LENGTH                102\n",
       "PRECISION               1\n",
       "USED_FLAG               2\n",
       "dtype: int64"
      ]
     },
     "metadata": {},
     "execution_count": 11
    }
   ],
   "source": [
    "bData.nunique()"
   ]
  },
  {
   "cell_type": "markdown",
   "metadata": {},
   "source": [
    "### Treate NULLs in precision and length and convert into string"
   ]
  },
  {
   "cell_type": "code",
   "execution_count": 12,
   "metadata": {},
   "outputs": [],
   "source": [
    "bData.to_csv(r'preprocess.csv', index = False)"
   ]
  },
  {
   "cell_type": "code",
   "execution_count": 13,
   "metadata": {
    "ExecuteTime": {
     "end_time": "2021-02-22T04:16:09.224981Z",
     "start_time": "2021-02-22T04:16:09.216724Z"
    }
   },
   "outputs": [],
   "source": [
    "bData['PRECISION'] = bData['PRECISION'].fillna(0)\n",
    "bData['LENGTH'] = bData['LENGTH'].fillna(0)"
   ]
  },
  {
   "cell_type": "code",
   "execution_count": 14,
   "metadata": {
    "ExecuteTime": {
     "end_time": "2021-02-22T04:16:09.914785Z",
     "start_time": "2021-02-22T04:16:09.463775Z"
    }
   },
   "outputs": [],
   "source": [
    "bData['LENGTH']= bData['LENGTH'].astype(str)\n",
    "bData['PRECISION']= bData['PRECISION'].astype(str)"
   ]
  },
  {
   "cell_type": "code",
   "execution_count": 15,
   "metadata": {
    "ExecuteTime": {
     "end_time": "2021-02-22T04:16:09.454730Z",
     "start_time": "2021-02-22T04:16:09.226791Z"
    }
   },
   "outputs": [
    {
     "output_type": "stream",
     "name": "stdout",
     "text": [
      "<class 'pandas.core.frame.DataFrame'>\nInt64Index: 266806 entries, 0 to 1047999\nData columns (total 10 columns):\n #   Column            Non-Null Count   Dtype \n---  ------            --------------   ----- \n 0   MAPPED_TO         266806 non-null  object\n 1   TABLE_NAME        266806 non-null  object\n 2   COLUMN_NAME       266806 non-null  object\n 3   POSITION          266806 non-null  int64 \n 4   PRIMARY_KEY_FLAG  266806 non-null  object\n 5   NULLABLE_FLAG_RC  266806 non-null  object\n 6   DATA_TYPE         266806 non-null  object\n 7   LENGTH            266806 non-null  object\n 8   PRECISION         266806 non-null  object\n 9   USED_FLAG         266806 non-null  object\ndtypes: int64(1), object(9)\nmemory usage: 32.4+ MB\n"
     ]
    }
   ],
   "source": [
    "bData.info()"
   ]
  },
  {
   "cell_type": "markdown",
   "metadata": {},
   "source": [
    "### Create new column with table_name, column_name, data_type,length,precision for NLP"
   ]
  },
  {
   "cell_type": "code",
   "execution_count": 16,
   "metadata": {
    "ExecuteTime": {
     "end_time": "2021-02-22T04:16:10.336105Z",
     "start_time": "2021-02-22T04:16:09.916895Z"
    }
   },
   "outputs": [],
   "source": [
    "bData['MAP_FOR_COL']=  bData['TABLE_NAME'] \\\n",
    "    + '|'+ bData['COLUMN_NAME'] \\\n",
    "    + '|'+ bData['DATA_TYPE'] \\\n",
    "    +  '|'+bData['LENGTH'] \\\n",
    "    + '|'+ bData['PRECISION']"
   ]
  },
  {
   "cell_type": "code",
   "execution_count": 17,
   "metadata": {
    "ExecuteTime": {
     "end_time": "2021-02-22T04:16:10.345726Z",
     "start_time": "2021-02-22T04:16:10.338314Z"
    }
   },
   "outputs": [
    {
     "output_type": "execute_result",
     "data": {
      "text/plain": [
       "0              FRMDEM|SITEMNEMONIC|VARCHAR2|20.0|0.0\n",
       "1              FRMDEM|SITEMNEMONIC|VARCHAR2|20.0|0.0\n",
       "2              FRMDEM|SITEMNEMONIC|VARCHAR2|20.0|0.0\n",
       "3            FRMDEM|SUBJECTINITIALS|VARCHAR2|3.0|0.0\n",
       "4          FRMDEM|SUBJECTNUMBERSTR|VARCHAR2|20.0|0.0\n",
       "                             ...                    \n",
       "1047995             DEMO_RD|DELETED|VARCHAR2|1.0|0.0\n",
       "1047996        DEMO_RD|RECENTDATAUPDATE|DATE|0.0|0.0\n",
       "1047997       FRMPE|RESPIRATORY_ND|VARCHAR2|64.0|0.0\n",
       "1047998        FRMPE|OPTHALMOLOGIC|VARCHAR2|44.0|0.0\n",
       "1047999            FRMPE|VISITNAME|VARCHAR2|50.0|0.0\n",
       "Name: MAP_FOR_COL, Length: 266806, dtype: object"
      ]
     },
     "metadata": {},
     "execution_count": 17
    }
   ],
   "source": [
    "bData['MAP_FOR_COL']"
   ]
  },
  {
   "cell_type": "markdown",
   "metadata": {},
   "source": [
    "### Build code for pre-processing text for NLP"
   ]
  },
  {
   "cell_type": "code",
   "execution_count": 18,
   "metadata": {
    "ExecuteTime": {
     "end_time": "2021-02-22T04:16:10.594046Z",
     "start_time": "2021-02-22T04:16:10.348010Z"
    }
   },
   "outputs": [],
   "source": [
    "from bs4 import BeautifulSoup"
   ]
  },
  {
   "cell_type": "code",
   "execution_count": 19,
   "metadata": {
    "ExecuteTime": {
     "end_time": "2021-02-22T04:16:10.615205Z",
     "start_time": "2021-02-22T04:16:10.597295Z"
    }
   },
   "outputs": [
    {
     "output_type": "stream",
     "name": "stdout",
     "text": [
      "FRMDEM|SITEMNEMONIC|VARCHAR2|20.0|0.0\nFRMDEM|SITEMNEMONIC|VARCHAR2|20.0|0.0\nFRMDEM SITEMNEMONIC VARCHAR2 20 0 0 0\n"
     ]
    }
   ],
   "source": [
    "import re\n",
    "\n",
    "example1 = BeautifulSoup(bData[\"MAP_FOR_COL\"][0])\n",
    "print (bData[\"MAP_FOR_COL\"][0])\n",
    "print (example1.get_text())\n",
    "\n",
    "letters_only = re.sub(\"[^a-zA-Z0-9]\",\" \",example1.get_text() )\n",
    "print (letters_only)\n",
    "\n",
    "lower_case = letters_only.lower() \n",
    "\n",
    "words = lower_case.split() "
   ]
  },
  {
   "cell_type": "code",
   "execution_count": 20,
   "metadata": {
    "ExecuteTime": {
     "end_time": "2021-02-22T04:16:10.647396Z",
     "start_time": "2021-02-22T04:16:10.644983Z"
    }
   },
   "outputs": [],
   "source": [
    "# import nltk\n",
    "# nltk.download('stopwords')"
   ]
  },
  {
   "cell_type": "code",
   "execution_count": 21,
   "metadata": {
    "ExecuteTime": {
     "end_time": "2021-02-22T04:16:11.091745Z",
     "start_time": "2021-02-22T04:16:10.649376Z"
    }
   },
   "outputs": [
    {
     "output_type": "stream",
     "name": "stdout",
     "text": [
      "['i', 'me', 'my', 'myself', 'we', 'our', 'ours', 'ourselves', 'you', \"you're\", \"you've\", \"you'll\", \"you'd\", 'your', 'yours', 'yourself', 'yourselves', 'he', 'him', 'his', 'himself', 'she', \"she's\", 'her', 'hers', 'herself', 'it', \"it's\", 'its', 'itself', 'they', 'them', 'their', 'theirs', 'themselves', 'what', 'which', 'who', 'whom', 'this', 'that', \"that'll\", 'these', 'those', 'am', 'is', 'are', 'was', 'were', 'be', 'been', 'being', 'have', 'has', 'had', 'having', 'do', 'does', 'did', 'doing', 'a', 'an', 'the', 'and', 'but', 'if', 'or', 'because', 'as', 'until', 'while', 'of', 'at', 'by', 'for', 'with', 'about', 'against', 'between', 'into', 'through', 'during', 'before', 'after', 'above', 'below', 'to', 'from', 'up', 'down', 'in', 'out', 'on', 'off', 'over', 'under', 'again', 'further', 'then', 'once', 'here', 'there', 'when', 'where', 'why', 'how', 'all', 'any', 'both', 'each', 'few', 'more', 'most', 'other', 'some', 'such', 'no', 'nor', 'not', 'only', 'own', 'same', 'so', 'than', 'too', 'very', 's', 't', 'can', 'will', 'just', 'don', \"don't\", 'should', \"should've\", 'now', 'd', 'll', 'm', 'o', 're', 've', 'y', 'ain', 'aren', \"aren't\", 'couldn', \"couldn't\", 'didn', \"didn't\", 'doesn', \"doesn't\", 'hadn', \"hadn't\", 'hasn', \"hasn't\", 'haven', \"haven't\", 'isn', \"isn't\", 'ma', 'mightn', \"mightn't\", 'mustn', \"mustn't\", 'needn', \"needn't\", 'shan', \"shan't\", 'shouldn', \"shouldn't\", 'wasn', \"wasn't\", 'weren', \"weren't\", 'won', \"won't\", 'wouldn', \"wouldn't\"]\n['frmdem', 'sitemnemonic', 'varchar2', '20', '0', '0', '0']\n"
     ]
    }
   ],
   "source": [
    "from nltk.corpus import stopwords\n",
    "print (stopwords.words(\"english\")) \n",
    "words = [w for w in words if not w in stopwords.words(\"english\")]\n",
    "print (words)"
   ]
  },
  {
   "cell_type": "markdown",
   "metadata": {},
   "source": [
    "### Function to pre-process (cleaning of data )"
   ]
  },
  {
   "cell_type": "code",
   "execution_count": 22,
   "metadata": {
    "ExecuteTime": {
     "end_time": "2021-02-22T04:16:11.110016Z",
     "start_time": "2021-02-22T04:16:11.103379Z"
    }
   },
   "outputs": [],
   "source": [
    "def review_to_words( raw_review ):\n",
    "    # Function to convert a raw review to a string of words\n",
    "    # The input is a single string (a raw movie review), and \n",
    "    # the output is a single string (a preprocessed movie review)\n",
    "    #\n",
    "    # 1. Remove HTML\n",
    "    review_text = BeautifulSoup(raw_review).get_text() \n",
    "    #\n",
    "    # 2. Remove non-letters and numbers       \n",
    "    letters_only = re.sub(\"[^a-zA-Z0-9]\", \" \", review_text) \n",
    "    #\n",
    "    # 3. Convert to lower case, split into individual words\n",
    "    words = letters_only.lower().split()                             \n",
    "    #\n",
    "    # 4. In Python, searching a set is much faster than searching\n",
    "    #   a list, so convert the stop words to a set\n",
    "    stops = set(stopwords.words(\"english\"))                  \n",
    "    # \n",
    "    # 5. Remove stop words\n",
    "    meaningful_words = [w for w in words if not w in stops]   \n",
    "    #\n",
    "    # 6. Join the words back into one string separated by space, \n",
    "    # and return the result.\n",
    "    return( \" \".join( meaningful_words ))  "
   ]
  },
  {
   "cell_type": "code",
   "execution_count": 23,
   "metadata": {
    "ExecuteTime": {
     "end_time": "2021-02-22T04:16:11.164701Z",
     "start_time": "2021-02-22T04:16:11.160985Z"
    }
   },
   "outputs": [],
   "source": [
    "bData.reset_index(drop=True, inplace=True)"
   ]
  },
  {
   "cell_type": "code",
   "execution_count": 24,
   "metadata": {
    "ExecuteTime": {
     "end_time": "2021-02-22T04:16:17.194358Z",
     "start_time": "2021-02-22T04:16:17.188340Z"
    }
   },
   "outputs": [
    {
     "output_type": "stream",
     "name": "stdout",
     "text": [
      "lb studyid varchar2 12 0 0 0\n"
     ]
    }
   ],
   "source": [
    "#Test function\n",
    "clean_review = review_to_words( bData[\"MAP_FOR_COL\"][66] )\n",
    "print (clean_review)"
   ]
  },
  {
   "cell_type": "markdown",
   "metadata": {},
   "source": [
    "# Prepare src cols"
   ]
  },
  {
   "cell_type": "code",
   "execution_count": 25,
   "metadata": {
    "ExecuteTime": {
     "end_time": "2021-02-22T04:19:21.086946Z",
     "start_time": "2021-02-22T04:16:21.117700Z"
    }
   },
   "outputs": [],
   "source": [
    "# Get the number of reviews based on the dataframe column size\n",
    "num_reviews = bData[\"MAP_FOR_COL\"].size\n",
    "\n",
    "# Initialize an empty list to hold the clean reviews\n",
    "clean_train_reviews = []\n",
    "\n",
    "# Loop over each review; create an index i that goes from 0 to the length\n",
    "# of the movie review list \n",
    "for i in range( 0, num_reviews ):\n",
    "    # Call our function for each one, and add the result to the list of\n",
    "    # clean reviews\n",
    "    clean_train_reviews.append(review_to_words( bData[\"MAP_FOR_COL\"][i]))\n",
    "    "
   ]
  },
  {
   "cell_type": "code",
   "execution_count": 26,
   "metadata": {
    "ExecuteTime": {
     "end_time": "2021-02-22T04:20:18.516087Z",
     "start_time": "2021-02-22T04:20:12.551309Z"
    }
   },
   "outputs": [
    {
     "output_type": "stream",
     "name": "stdout",
     "text": [
      "Creating the bag of words...\n\n"
     ]
    }
   ],
   "source": [
    "print (\"Creating the bag of words...\\n\")\n",
    "from sklearn.feature_extraction.text import CountVectorizer\n",
    "\n",
    "# Initialize the \"CountVectorizer\" object, which is scikit-learn's\n",
    "# bag of words tool.  \n",
    "vectorizer = CountVectorizer(analyzer = \"word\",   \\\n",
    "                             tokenizer = None,    \\\n",
    "                             preprocessor = None, \\\n",
    "                             stop_words = None,   \\\n",
    "                             max_features = 5000) \n",
    "\n",
    "# fit_transform() does two functions: First, it fits the model\n",
    "# and learns the vocabulary; second, it transforms our training data\n",
    "# into feature vectors. The input to fit_transform should be a list of \n",
    "# strings.\n",
    "train_data_features = vectorizer.fit_transform(clean_train_reviews)\n",
    "\n",
    "# Numpy arrays are easy to work with, so convert the result to an \n",
    "# array\n",
    "train_data_features = train_data_features.toarray()"
   ]
  },
  {
   "cell_type": "code",
   "execution_count": 27,
   "metadata": {
    "ExecuteTime": {
     "end_time": "2021-02-22T04:20:20.495749Z",
     "start_time": "2021-02-22T04:20:20.486787Z"
    },
    "tags": [
     "outputPrepend"
    ]
   },
   "outputs": [
    {
     "output_type": "stream",
     "name": "stdout",
     "text": [
      "mh7001', 'igmhpresp', 'igsae2001', 'igsl2001', 'imaging', 'imgadqcd', 'imgadqsp', 'inch', 'incidentcountry', 'indication', 'indication1', 'indicationmeddraversion', 'indicationsd', 'indicator', 'infconsdtc', 'infection', 'info', 'ingd', 'ingddttm', 'ingdemid', 'ingdos', 'ingdtpf', 'ingdver', 'ingfrst', 'ingrd', 'ingredient', 'initdm', 'initialinsomnia', 'initials', 'initscr', 'int', 'int2', 'intcodelistno', 'internal', 'interventionrequiredae', 'intitem1', 'investigationresult', 'investigatordepressionopini', 'investigatordepressionopinio', 'invid', 'invname', 'iocpresod', 'iocpresos', 'ioodres', 'ioosres', 'iop', 'iop2001', 'iopasmdat', 'iopperf', 'iopres1', 'iopres1u', 'iopres2', 'iopres2u', 'irodres', 'irosres', 'irtdisp', 'irtdm', 'irtdmdat', 'irtds', 'irtdsdt', 'irtdspyn', 'irtenr', 'irtkitid', 'irtmsg', 'irtmsg2', 'irtmsgc', 'irtrand', 'irtranid', 'irtranyn', 'irtsc', 'irtscdt', 'irtscr', 'irtscyn', 'irtsf', 'irtsfdt', 'irtsfyn', 'irtsubid', 'irttrxdt', 'irttrxid', 'islifethrea', 'isreadytosubmit', 'isreportable', 'isserious', 'item1', 'item11', 'item2', 'item3', 'itemsetid', 'itemsetidx', 'itemsetindex', 'itm1', 'itm2', 'itmactualtime', 'itmchem', 'itmchemlnmt', 'itmchemun', 'itmchemunit', 'itmdod', 'itmdrugyn', 'itmfloat', 'itmheight', 'itmhemalnmt', 'itmlabdate', 'itmlabresult', 'itmmondoc', 'itmmondrgkt', 'itmmonproto', 'itmmonsig', 'itmmonsop', 'itmplanedtime', 'itmpredose', 'itmtemp', 'itmtestname', 'itmualnmt', 'itmweight', 'j03', 'j16', 'j26', 'j28', 'j69', 'j74', 'j76', 'j78', 'jb5', 'jd4', 'jm2', 'jobtitle', 'join', 'kb8', 'ketone', 'key', 'kitno', 'lab', 'lab1', 'lab2', 'labalkaline', 'labalt', 'labast', 'labbilirubin', 'labbun', 'labchloride', 'labcreatinine', 'label', 'labhematocrit', 'labhemoglobin', 'labid', 'lableukocyte', 'laboratoryeval', 'laboratorytestname', 'laboratorytestunits', 'labplatelet', 'labpotassium', 'labrbc', 'labs', 'labsodium', 'labtest', 'labunits', 'lackofefficacy', 'lae1', 'larch', 'larch1', 'lastdatatime', 'lastdoseonsetduration', 'lastdosetoonsetduration', 'lb', 'lb9001', 'lb9f6', 'lb9f7', 'lb9f8', 'lb9f9', 'lbactdy', 'lbblfl', 'lbcat', 'lbdat', 'lbdt', 'lbdtc', 'lbdttm', 'lbdy', 'lbflag', 'lbnam', 'lbnamcd', 'lbnrind', 'lbnum', 'lbornrhi', 'lbornrlo', 'lborres', 'lborresu', 'lborunit', 'lbperf', 'lbreascd', 'lbresmd', 'lbseq', 'lbspid', 'lbstdnrc', 'lbstnrhi', 'lbstnrlo', 'lbstresc', 'lbstresn', 'lbstresu', 'lbstunit', 'lbtest', 'lbtestcd', 'lbtyp', 'lesion', 'lf1', 'lf2', 'lf3', 'lf4', 'lf5', 'lf6', 'lf7', 'lf8', 'lf9', 'lidt', 'lifethreatening', 'limethcd', 'limethsp', 'liorrscd', 'liorrssp', 'liorrsspbl', 'liorrsspfo', 'liorrsspg', 'liorrsspvnsa', 'liver', 'livt', 'llt', 'lltc', 'lltcode', 'lmet', 'load', 'load3', 'loc', 'loc1', 'loc10', 'loc13', 'loc47', 'loc5', 'loc52', 'loctx', 'log', 'lossofappetite', 'lossofinsight', 'lossoflibido', 'loth', 'low', 'lowlevelterm', 'lowrange', 'lpdt', 'lporrscd', 'lporrssp', 'lporrsspble', 'lporrsspfdia', 'lporrssphc', 'lporrssphcde', 'lporrssphcin', 'lporrssphys', 'lporrssplarc', 'lporrssplvr', 'lporrsspp', 'lporrssppa', 'lporrssppor', 'lrange', 'lrodres', 'lrosres', 'lrss1001', 'lrssasmdat', 'lrsseval', 'lrssobj', 'lrssperf', 'lrssres11', 'lrssres12', 'lrssres14', 'lrssres14oth', 'lrssres16', 'lrssres17', 'lrssres18', 'lrssres19', 'lrssres20', 'lrssres21', 'lrssres22', 'lrssres23', 'lrssres24', 'lrssres25', 'lrssres26', 'lrssres27', 'lrssres28', 'lrssres29', 'lrssres30', 'lrssres31', 'lrssres32', 'lrssres33', 'lrssres34', 'lrssres35', 'lrssres8', 'lrssres9', 'ls', 'ltrtdt', 'lupus', 'lvevtany', 'lvrift', 'lvrift1', 'lvrinf', 'lvrinf1', 'lvrsz', 'lvrtex', 'lymphnodes', 'lymphnodesspecify', 'maedod', 'maedos', 'map', 'maritalstatus', 'market', 'maximumseverity', 'mcell', 'meddra', 'meddrugname', 'medhist', 'medicallysignificant', 'medsurg', 'meetcriteria', 'metabolicsyndrome', 'meth', 'mgr', 'mh', 'mh1apmh', 'mh7001', 'mhactdy', 'mhbodsys', 'mhcat', 'mhcompare', 'mhdecbs', 'mhdecod', 'mhdt', 'mhdtc', 'mhdxdat', 'mhdy', 'mhendat', 'mhendtc', 'mhhlgt', 'mhhlgtc', 'mhhltc', 'mhhltt', 'mhid', 'mhllt', 'mhlltc', 'mhlltcd', 'mhlltcdpresp', 'mhmedsyn', 'mhmodcompare', 'mhmodify', 'mhno', 'mhoccur', 'mhong', 'mhongo', 'mhpref', 'mhprefc', 'mhpresp', 'mhpresp1', 'mhpresp1001', 'mhpresp1c2f3', 'mhpresp1f3', 'mhscat', 'mhseq', 'mhsev', 'mhsoc', 'mhsocc', 'mhspid', 'mhstat', 'mhstdat', 'mhstdtc', 'mhterm', 'mhtoxgr', 'mhver', 'mhverbatim', 'mhx', 'mhyn', 'mi', 'mic', 'middleinsomnia', 'mins', 'miorr', 'miorre', 'miorres', 'miorresc123', 'miorresc1277', 'miorresc141', 'miorresc763', 'miweddirod', 'miweddiros', 'miwedod', 'miwedos', 'miwedresod', 'miwedresos', 'mm', 'mmc', 'mmse12001', 'mmse1asmdat', 'mmse1perf', 'mmse1res1', 'mmse1res10', 'mmse1res11', 'mmse1res12', 'mmse1res13', 'mmse1res14', 'mmse1res16', 'mmse1res17', 'mmse1res18', 'mmse1res19', 'mmse1res2', 'mmse1res20', 'mmse1res21', 'mmse1res22', 'mmse1res23', 'mmse1res24', 'mmse1res25', 'mmse1res27', 'mmse1res28', 'mmse1res29', 'mmse1res3', 'mmse1res30', 'mmse1res31', 'mmse1res32', 'mmse1res33', 'mmse1res34', 'mmse1res35', 'mmse1res4', 'mmse1res5', 'mmse1res6', 'mmse1res7', 'mmse1res8', 'mmse1res9', 'moca2001', 'mocaperf', 'mocar12a', 'mocar12b', 'mocar12c', 'mocar12d', 'mocar12e', 'mocaserial7r', 'mocasmdat', 'mocasres1', 'mocasres10', 'mocasres11', 'mocasres13', 'mocasres14', 'mocasres15', 'mocasres16', 'mocasres17', 'mocasres18', 'mocasres19', 'mocasres2', 'mocasres20', 'mocasres21', 'mocasres22', 'mocasres23', 'mocasres24', 'mocasres25', 'mocasres26', 'mocasres27', 'mocasres28', 'mocasres29', 'mocasres3', 'mocasres4', 'mocasres5', 'mocasres6', 'mocasres7', 'mocasres8', 'mocasres9', 'modifiedbyuserid', 'modifieddatetime', 'modifiedreportedterm', 'modifiedterm', 'moorr', 'moorre', 'moorres', 'mrc', 'mre', 'mri', 'mrodres', 'mrosres', 'mrs', 'mtxtsubjectnumber', 'musc', 'musculoskeletal', 'musculoskeletaldescribe', 'musculoskeletalspecify', 'musculoskeletalterms', 'naf', 'name', 'nas', 'nash', 'nd', 'netxt1', 'neur', 'neurologic', 'neurologicdescribe', 'neurologicspecify', 'neurologicterms', 'new', 'newcodelistitem13', 'newcodelistitem14', 'newcodelistitem15', 'newcodelistitem16', 'newcodelistitem17', 'newcodelistitem18', 'newcol1', 'newfrmadded', 'newint', 'newint1', 'newint2', 'newintadded', 'newitemadded', 'newtotaldailydose', 'newtxt', 'newtxt1', 'newvstfrm', 'ni1', 'nicgum', 'nicpatch', 'notavail', 'notcompletereason', 'note', 'noyesnostr', 'np2001', 'npi1a', 'npi1a01', 'npi1a02', 'npi1a03', 'npi1a05', 'npi1a07', 'npi1a08', 'npi1a09', 'npi1a10', 'npi1a11', 'npi1a12', 'npi1b', 'npi1b01', 'npi1b02', 'npi1b03', 'npi1b04', 'npi1b05', 'npi1b06', 'npi1b07', 'npi1b08', 'npi1b09', 'npi1b10', 'npi1c', 'npi1c01', 'npi1c02', 'npi1c03', 'npi1c05', 'npi1c06', 'npi1c07', 'npi1c08', 'npi1c10', 'npi1c11', 'npi1d', 'npi1d01', 'npi1d02', 'npi1d03', 'npi1d04', 'npi1d05', 'npi1d06', 'npi1d08', 'npi1d09', 'npi1d10', 'npi1e', 'npi1e01', 'npi1e03', 'npi1e04', 'npi1e05', 'npi1e06', 'npi1e07', 'npi1e08', 'npi1e09', 'npi1e10', 'npi1f', 'npi1f01', 'npi1f02', 'npi1f03', 'npi1f04', 'npi1f05', 'npi1f06', 'npi1f07', 'npi1f08', 'npi1f10', 'npi1g', 'npi1g01', 'npi1g02', 'npi1g03', 'npi1g04', 'npi1g05', 'npi1g06', 'npi1g07', 'npi1g08', 'npi1g09', 'npi1g10', 'npi1g11', 'npi1h', 'npi1h01', 'npi1h02', 'npi1h03', 'npi1h04', 'npi1h05', 'npi1h06', 'npi1h07', 'npi1h08', 'npi1h09', 'npi1h10', 'npi1i', 'npi1i01', 'npi1i02', 'npi1i03', 'npi1i04', 'npi1i05', 'npi1i06', 'npi1i08', 'npi1i09', 'npi1i10', 'npi1j', 'npi1j01', 'npi1j02', 'npi1j03', 'npi1j04', 'npi1j05', 'npi1j06', 'npi1j07', 'npi1j08', 'npi1j09', 'npi1j10', 'npi1k', 'npi1k02', 'npi1k03', 'npi1k04', 'npi1k05', 'npi1k06', 'npi1k07', 'npi1k08', 'npi1k09', 'npi1k10', 'npi1k11', 'npi1l', 'npi1l01', 'npi1l02', 'npi1l03', 'npi1l04', 'npi1l05', 'npi1l06', 'npi1l07', 'npi1l08', 'npi1l09', 'npi1l10', 'npi1l11', 'npi2001', 'npidat', 'npieval', 'npiperf', 'nrt', 'nsnacod', 'nsnacos', 'nu', 'number', 'nwint', 'nwint1', 'obs', 'oc', 'occbld', 'ocular', 'oecat', 'oedtc', 'oefocid', 'oeloc', 'oespid', 'ohdtc', 'ongoing', 'ongoingno', 'ongoingsd', 'onsetdate', 'opdineod', 'opdineos', 'opneod', 'opneos', 'opotabdetod', 'opotabdetos', 'opotabod', 'opotabos', 'opthalmologic', 'opthalmologicspecify', 'optn', 'orcl', 'origin', 'osim', 'otabpuex', 'otcancerpr', 'otcvdgpr', 'oth', 'otherspecif', 'otherspecify', 'othr', 'otncvdgpr', 'otriskfc', 'otriskfcsp', 'outcome', 'outcomedeath', 'outcomeresolved', 'outcomesequelae', 'overdose', 'pallod', 'pallos', 'paraova', 'paraova1', 'parent1', 'parentssibl', 'partial', 'patient', 'patienthaspriorhistory', 'pc', 'pccdttm', 'pccdttm1', 'pcell', 'pcell1', 'pcrefid', 'pctpt', 'pd', 'pdev', 'pdfloat', 'pdiagcat', 'pdinteger', 'pdtext', 'pe', 'peabdetail', 'peactdy', 'peassess', 'pebodsys', 'pedecbs', 'pedecod', 'pedt', 'pedtc', 'peferredterm', 'pefind', 'pereas', 'peseq', 'pesite', 'pestat', 'pfs', 'ph', 'phyd', 'physicalexamin', 'physiciandecisionspecify', 'pipes', 'pk', 'pktaken', 'plannedtime', 'plateletcount', 'pmatc4', 'pmatc4code', 'pmcasenamecodej', 'pmcasenamej', 'pmcasetypej', 'pmdrugname', 'pmdrugnamej', 'pmgenericnamecodej', 'pmgenericnamej', 'pmhiddene', 'pmhiddenj', 'pmindication', 'pmindicationj', 'pmindicationj1', 'pmpreferredname', 'pmroute', 'pmroutej', 'pmtradename', 'pmtradenamecode', 'pmtradenamej', 'pnam', 'pnamc', 'portrifm', 'portrifm1', 'porvns', 'porvns1', 'potassium', 'pr', 'prcat', 'prdrey', 'pref', 'prefc', 'preferredname', 'preferredterm', 'preg', 'pregnancyno', 'pregnancyresult', 'pregnancyyes', 'pregnantbreastfreeding', 'prendtc', 'prevap', 'prob', 'probability', 'probablerationale', 'proccur', 'prodev', 'product', 'progressionofdisease', 'prompt', 'prot', 'prpresp', 'prspid', 'prstdat', 'prstdtc', 'prtdesg', 'prtrt', 'prtrtint', 'prtrtsp', 'prtrtstt', 'prvsubjsfflg', 'prvtrial', 'pryn', 'psor', 'psyc', 'psychiatric', 'psychiatricdescribe', 'pt', 'ptyn', 'pukerod', 'pukeros', 'pukersevod', 'pukersevos', 'pulse', 'pulseu', 'pupres', 'purpose', 'pvdod', 'pvdos', 'qctest', 'qeval', 'qlabel', 'qnam', 'qorig', 'qrs', 'qs', 'qsapid', 'qsblfl', 'qscat', 'qsdrvfl', 'qsdtc', 'qsdy', 'qsevalin', 'qsevintx', 'qsevlint', 'qsorres', 'qsorresu', 'qsscat', 'qsseq', 'qsstresc', 'qsstresn', 'qsstresu', 'qstest', 'qstestcd', 'qt', 'qtcf', 'qualification', 'qval', 'ra', 'ra0', 'rac', 'race', 'raceasian', 'racec16352', 'racec41219', 'racec41259', 'raceccd', 'raceother', 'races01323', 'races01324', 'races01325', 'races01326', 'races01328', 'races20231', 'racescat', 'racescat1yn', 'racescat2yn', 'racescat58', 'racescat79', 'racescat84', 'racewhite', 'rad', 'radprior', 'radprior1', 'radtx', 'rand', 'randdttm', 'randnum', 'randomizationkitnumber', 'rangeflag', 'rbc', 'rbfloat', 'rbinteger', 'rbtext', 'rd', 'rdcsaeip', 'rdcsaerand', 'rdomain', 'reactionrecurrence', 'reactionrelatedness', 'reasondiscontinued', 'reasonfordosechange', 'reasonformedication', 'reasonone', 'reasonother', 'reasonradio', 'rec', 'recdrug', 'receivedtreatment', 'recentdataupdate', 'recurreactionidentification', 'recurreactionidentificationsd', 'recuryn', 'redbloodcellcountrbc', 'reference', 'refresod', 'refresos', 'regdocs', 'regimen', 'rejectreason', 'relatedtostudyconduct', 'relationstudydrug', 'relid', 'reload', 'relrec', 'relrec2', 'reltype', 'reneod', 'reneos', 'reopen', 'reotabdetod', 'reotabdetos', 'reotabod', 'reotabos', 'repdate', 'repeatnum', 'reproductive', 'reproductivespecify', 'requireshos', 'res', 'resolutiondate', 'resp', 'respiratory', 'respiratorydescribe', 'respiratoryspecify', 'respiratoryterm', 'result', 'resultcomment', 'resultn', 'resultsinde', 'resultsindi', 'resultspecify', 'resultssignificant', 'resultt', 'ret', 'retamt', 'retamtcmp', 'retamtu', 'retardation', 'retod', 'retos', 'review', 'rfendtc', 'rfstdtc', 'rheart', 'rid', 'rm', 'rmd96', 'rmd97', 'role', 'route', 'routeadmin', 'routeadminparent', 'rownumber', 'rsbresp', 'rtxany', 's1', 's2', 's3', 's4', 's5', 's6', 's7', 's8', 's9', 'sae', 'sae2001', 'sae2f1', 'sae2f1s1', 'sae2f1s2', 'sae2f1s3', 'sae2f1s4', 'sae2f1s5', 'sae2f1s6', 'sae2f1s7', 'sae2f1s8', 'saeae1', 'saeae2', 'saeae3', 'saeaeacn', 'saeaeno', 'saeaescong', 'saeaesdisab', 'saeaeslife', 'saeaesmie', 'saeaesmietp', 'saeasmdat', 'saeassessments', 'saeauperf', 'saeawadat', 'saecan', 'saecause', 'saecondition', 'saecong', 'saedisab', 'saedth', 'saedthdat', 'saedtroc', 'saeexdosdat', 'saeexdosfrq', 'saeexendat', 'saeexendat1', 'saeexendat2', 'saeexroute', 'saeexstdat', 'saeexstdat1', 'saeextrt', 'saefuasmdat', 'saefuawadat', 'saegrpid', 'saehoendat', 'saehosp', 'saehospcnd', 'saehostdat', 'saelbdat', 'saelbornrhi', 'saelbornrlo', 'saelborres', 'saelborresu', 'saelbtest', 'saelbtim', 'saelife', 'saenameproc', 'saeod', 'saeoth', 'saeout', 'saeoutcome', 'saeprcdth', 'saeproc', 'saerel2', 'saerel3', 'saerelextrt1', 'saerelextrt2', 'saerelextrt3', 'saerelprc', 'saerelx1', 'saerelx2', 'saerelx3', 'saerslt', 'saesdth', 'saeseqno', 'saesequelae', 'saesera', 'saeserb', 'saeserc', 'saeserd', 'saesere', 'saeserf', 'saeserg', 'saeshosp', 'saespid', 'saestdat', 'saesup', 'saesupplemental', 'saeterm', 'safetycaseinfo', 'sample', 'sc', 'sc1', 'sc2', 'sccat', 'scdtc', 'scdy', 'scm', 'scorres', 'scorresu', 'scr', 'scrdt', 'screen', 'screenfailurespecify', 'screeningdate', 'scseq', 'scstresc', 'scstresn', 'scstresu', 'sctchemres', 'sctdailydosechange', 'sctdosevs', 'sctdosingrecordentr', 'sctecg', 'sctemergent1', 'sctest', 'sctestcd', 'scthemares', 'scthematology', 'sctie', 'sctlab', 'sctlabo', 'sctmedhist', 'sctmh', 'sctphex', 'sctpka', 'sctpkc', 'sctpke', 'sctpkg', 'sctpki', 'sctpm', 'sctserumchemestry', 'sctuares', 'sctvitalsigns', 'sddsrel', 'sddsrel1', 'sddsrel2', 'sddsrel3', 'sdendt', 'sdipcd', 'sdrscd', 'sdrssp', 'sdrssp1', 'sdsmeta', 'sdsubrcd6', 'sdsubrcd7', 'sdsubrcd8', 'sdsubrsp', 'se', 'sec1', 'sec2', 'sec3', 'sec4', 'sec5', 'sectionheader', 'sectionid', 'sectionrefname', 'sed', 'sedmicyn', 'seendtc', 'sef', 'seiz', 'sep', 'separatedosecount', 'ser', 'serious', 'seriousae', 'seriousaeoptions', 'seriousaeye', 'seriousaeyesother', 'seriouscriteria', 'seriousdeath', 'seriousflag', 'seriousothercomment', 'seseq', 'sestdtc', 'seupdes', 'severity', 'sex', 'seyetr', 'sf', 'sf36', 'sf36acpact', 'sf36aemoact', 'sf36atimeact', 'sf36batact', 'sf36bdpain', 'sf36benact', 'sf36clmact', 'sf36clmsact', 'sf36fcp', 'sf36fd', 'sf36fdh', 'sf36ffh', 'sf36ffl', 'sf36fft', 'sf36fle', 'sf36fn', 'sf36fphe', 'sf36fwo', 'sf36lifact', 'sf36limact', 'sf36modact', 'sf36nrwk', 'sf36peract', 'sf36phsact', 'sf36sgw', 'sf36sha', 'sf36she', 'sf36sle', 'sf36walact', 'sf36waloact', 'sf36walsact', 'sfdate', 'sfgenhea', 'sfhealrate', 'sfucnth', 'sfuq3001', 'sfuq3f1', 'sfuq3f2', 'sfuqepid', 'sfuqeval', 'sfuqevtflg', 'sfuqperf', 'sfuqres1', 'sfuqres10', 'sfuqres10md', 'sfuqres11a', 'sfuqres11b', 'sfuqres11c', 'sfuqres11d', 'sfuqres12', 'sfuqres2', 'sfuqres3', 'sfuqres4', 'sfuqres5', 'sfuqres5md', 'sfuqres6', 'sfuqres6md', 'sfuqres7', 'sfuqres7md', 'sfuqres8', 'sfuqres8md', 'sfuqres9md', 'si', 'sibling', 'sif', 'signedconsent', 'site', 'sitecountry', 'siteid', 'sitemnemonic', 'sitename', 'sittingbloodpressure', 'sittingpulserate', 'sittingrespirationrate', 'sjs', 'sk2fsta1f1', 'ske2001', 'ske2dsta1f1', 'ske2fsta', 'ske2fsta1f1', 'ske2fstaf1', 'skeasmdat', 'skehyploc', 'skeperf', 'skerd', 'skerde', 'skerdesc', 'skeres10', 'skeres10oth', 'skeres13', 'skeres14', 'skeres15', 'skeres16', 'skeres7', 'skeres8', 'skeres9', 'skey', 'sl2001', 'slasmdat', 'slperf', 'slrdes', 'slres1', 'slres4', 'slres5', 'slres6', 'smoke', 'smokeless', 'snacod', 'snacos', 'soc', 'socc', 'soda', 'sodium', 'soodres', 'soosres', 'source', 'spany', 'spcfy', 'spclascd', 'spcompare', 'spdiagrs', 'spec', 'specifier', 'spendttm', 'spgrav', 'sphereod', 'sphereos', 'spindc', 'spirits', 'splltcd', 'spmedsyn', 'spmodcompare', 'spmodify', 'spodevtyp', 'sponsordecisionspecify', 'spseq', 'spstdttm', 'spterm', 'src', 'srodres', 'srosres', 'srsepsispr', 'srvtp2', 'srvtp5', 'st', 'stagetbl1', 'startdate', 'startdateandtime', 'startdatefornewdose', 'startedpriorno', 'startedpriortostudy', 'stat', 'state', 'statgut', 'stathep', 'status', 'stdchgbl', 'stdoseyn', 'stg04b', 'stg04c', 'stoccyn', 'stopdate', 'stpfsyn', 'str', 'strcodelistno', 'strcodelisttftmrrw', 'strcodelisttftoday', 'strength', 'stromacod', 'stromacos', 'stromod', 'stromos', 'structureddosageinformation', 'study', 'studycompletion', 'studydrugname', 'studyid', 'studytrts915128', 'studytrts915129', 'studyversionid', 'su', 'su1001', 'su1f2', 'su1f3', 'su2', 'su2001', 'su2f1', 'su3', 'su3001', 'su3f2', 'su4001', 'su4f1', 'su5001', 'su5f1', 'su5f2', 'suasmdat', 'sub', 'subhzdirod', 'subhzdiros', 'subhzod', 'subhzos', 'subid', 'subj', 'subject', 'subjectaes', 'subjectbetween18and50', 'subjectcomplete', 'subjectconcom', 'subjectdecisionspecify', 'subjectdescribefeeling', 'subjectds1f8', 'subjectid', 'subjectinitials', 'subjectmeetsdsmivcriteria', 'subjectnumberstr', 'subjectvisitid', 'subjectwithdraw', 'subjid', 'subjid1', 'subjid2', 'subjid3', 'subjid4', 'subjinit', 'subjrscr', 'subnum', 'subuse', 'sucat', 'sudosadj', 'sudose', 'sudosfrq', 'sudostxt', 'suendat', 'suendst', 'suicide', 'suirfpr', 'suncf', 'suncfa', 'suncft', 'supchinod', 'supchinos', 'supod', 'supos', 'suppae', 'suppdm', 'suppds', 'supplab', 'supplb', 'suppmh', 'supresp', 'suptchinod', 'suptchinos', 'sustdst', 'sutendt', 'sv', 'sv1001', 'sv1f1', 'sva', 'svb', 'svc', 'svendtc', 'svstdtc', 'sye', 'syp', 'sys', 'sysbp', 'sysbpu', 'systemorganclass', 'systolicvariable', 't1', 't2', 't3', 'ta', 'table', 'tablean', 'tablean2', 'tablet', 'tabranch', 'taetord', 'takenpreviouslyandtolerated', 'tall', 'tampering', 'tatrans', 'tcptlnmtflag', 'tcptlnmtrng', 'tctany', 'tdis', 'te', 'tea', 'tedur', 'teenrl', 'temp', 'temperature', 'tempu', 'term', 'test', 'testres', 'testresult', 'testrl', 'text', 'thc', 'ti', 'timesincelastdose', 'tirl', 'tms', 'tob', 'tobacco', 'totaldailydose', 'totalleukocytecountwbc', 'totalscore', 'totaltabletsperdose', 'totaltabletsperdosetest', 'tpatt1', 'tpt1', 'tpt2', 'trade', 'tradec', 'tradename', 'traumapr', 'treatmentduration', 'treatmentfinalstopdate', 'treatmentname', 'treatmentsequenceid', 'treatmentstartdate', 'trg', 'trial', 'trigger1', 'trigques1', 'trldiam', 'trlperp', 'trop', 'troplc', 'trt', 'trtcd', 'trtcode', 'trtgrp', 'trttermcd', 'ts', 'tsparm', 'tsparmcd', 'tsseq', 'tsval', 'tuber', 'tudtc', 'tulnkid', 'tuloc', 'tulocdet', 'tumethod', 'tv', 'tvenrl', 'tvstrl', 'txid', 'txidhr', 'txidper', 'txidver', 'txrad', 'txt', 'txtlabtext', 'txtlabtext1', 'txtlbname1', 'txtlbname10', 'txtlbname2', 'txtlbname3', 'txtlbname4', 'txtlbname5', 'txtlbname6', 'txtlbname7', 'txtlbname8', 'txtlbname9', 'txtoceanscd', 'txtrandyn', 'txtsaecomm', 'txtsaecomm1', 'txtsaeid', 'txtsaerndno', 'txtsaeversion', 'txtscrsinit', 'type', 'ua', 'union', 'unique', 'unit', 'unitdose', 'units', 'units2', 'unsassess', 'unvisitnum', 'urin', 'urinarytract', 'urinarytractspecify', 'urindt', 'url', 'urn', 'us', 'userdisplayname', 'userloginname', 'usubjid', 'v1', 'vacasmdat', 'vace2001', 'vace2f1', 'vaceperf', 'vaceres13', 'vaceres14', 'vaceres15', 'vaceres16', 'vaceres17', 'vactp', 'values', 'varchar2', 'ventricularrate', 'ver', 'verbatim', 'version', 'vicegrod', 'vicegros', 'viceod', 'viceos', 'vihzgrod', 'vihzgros', 'vihzod', 'vihzos', 'vis', 'vis1', 'vis2', 'visdat', 'visdatmd', 'visit', 'visitcycle', 'visitdy', 'visitid', 'visitidx', 'visitindex', 'visitmnemonic', 'visitname', 'visitnum', 'visitorder', 'visitrefname', 'visitreport', 'vit', 'vitals', 'vitalsh', 'vitalsignsvs', 'vitnorod', 'vitnoros', 'vnsab', 'vnsab1', 'vs', 'vs003', 'vs1001', 'vs1f3', 'vs1f4', 'vs1f5', 'vs3i1', 'vsactdy', 'vsacttm', 'vsblfl', 'vscat', 'vsdat', 'vsdt', 'vsdtc', 'vsdy', 'vseltm', 'vsloc', 'vsorres', 'vsorresu', 'vsperf', 'vspos', 'vsseq', 'vsstat', 'vsstresc', 'vsstresn', 'vsstresu', 'vstest', 'vstestcd', 'vstpt', 'vstptnum', 'vstptref', 'wedrod', 'wedros', 'weight', 'weightloss', 'weightu', 'wfruletrig', 'willsubjectparticipate', 'wine', 'wit', 'withdrawal', 'workandinterest', 'xpcat', 'xpmethod', 'xpspid', 'yesyesnostr', 'yn']\n"
     ]
    }
   ],
   "source": [
    "# Take a look at the words in the vocabulary\n",
    "vocab = vectorizer.get_feature_names()\n",
    "print (vocab)"
   ]
  },
  {
   "cell_type": "markdown",
   "metadata": {},
   "source": [
    "# Prepare Mapped_to"
   ]
  },
  {
   "cell_type": "code",
   "execution_count": 28,
   "metadata": {},
   "outputs": [],
   "source": [
    "bData['MAPPED_TO_LOWER']= bData['MAPPED_TO'].str.lower()"
   ]
  },
  {
   "cell_type": "code",
   "execution_count": 29,
   "metadata": {
    "ExecuteTime": {
     "end_time": "2021-02-22T04:20:22.359566Z",
     "start_time": "2021-02-22T04:20:21.924149Z"
    }
   },
   "outputs": [],
   "source": [
    "from sklearn.preprocessing import LabelEncoder\n",
    "\n",
    "cat_cols = [ 'MAPPED_TO_LOWER']\n",
    "encmapped = LabelEncoder()\n",
    "\n",
    "for col in cat_cols:\n",
    "    bData[col] = bData[col].astype('str')\n",
    "    bData[col] = encmapped.fit_transform(bData[col])\n",
    "    \n"
   ]
  },
  {
   "cell_type": "code",
   "execution_count": 30,
   "metadata": {},
   "outputs": [],
   "source": [
    "# # Get the number of reviews based on the dataframe column size\n",
    "# num_reviews = bData[\"MAPPED_TO\"].size\n",
    "\n",
    "# # Initialize an empty list to hold the clean reviews\n",
    "# clean_train_reviews_y1 = []\n",
    "\n",
    "# # Loop over each review; create an index i that goes from 0 to the length\n",
    "# # of the movie review list \n",
    "# for i in range( 0, num_reviews ):\n",
    "#     # Call our function for each one, and add the result to the list of\n",
    "#     # clean reviews\n",
    "#     clean_train_reviews_y1.append(review_to_words( bData[\"MAPPED_TO\"][i]))"
   ]
  },
  {
   "cell_type": "code",
   "execution_count": 31,
   "metadata": {},
   "outputs": [],
   "source": [
    "# print (\"Creating the bag of words...\\n\")\n",
    "# from sklearn.feature_extraction.text import CountVectorizer\n",
    "\n",
    "# # Initialize the \"CountVectorizer\" object, which is scikit-learn's\n",
    "# # bag of words tool.  \n",
    "# vectorizer = CountVectorizer(analyzer = \"word\",   \\\n",
    "#                              tokenizer = None,    \\\n",
    "#                              preprocessor = None, \\\n",
    "#                              stop_words = None,   \\\n",
    "#                              max_features = 5000) \n",
    "\n",
    "# # fit_transform() does two functions: First, it fits the model\n",
    "# # and learns the vocabulary; second, it transforms our training data\n",
    "# # into feature vectors. The input to fit_transform should be a list of \n",
    "# # strings.\n",
    "# train_data_features_y1 = vectorizer.fit_transform(clean_train_reviews_y1)\n",
    "\n",
    "# # Numpy arrays are easy to work with, so convert the result to an \n",
    "# # array\n",
    "# train_data_features_y1 = train_data_features_y1.toarray()"
   ]
  },
  {
   "cell_type": "markdown",
   "metadata": {},
   "source": [
    "<p> Building model for small subset"
   ]
  },
  {
   "cell_type": "code",
   "execution_count": 32,
   "metadata": {},
   "outputs": [],
   "source": [
    "train_data_fea_sm = train_data_features[:10000]"
   ]
  },
  {
   "cell_type": "code",
   "execution_count": 33,
   "metadata": {},
   "outputs": [],
   "source": [
    "y_Data= bData[\"MAPPED_TO_LOWER\"].head(10000)"
   ]
  },
  {
   "cell_type": "code",
   "execution_count": 34,
   "metadata": {},
   "outputs": [
    {
     "output_type": "stream",
     "name": "stdout",
     "text": [
      "3165\n"
     ]
    }
   ],
   "source": [
    "print(train_data_fea_sm[0].size)"
   ]
  },
  {
   "cell_type": "code",
   "execution_count": null,
   "metadata": {
    "ExecuteTime": {
     "start_time": "2021-02-22T04:20:31.867Z"
    }
   },
   "outputs": [],
   "source": [
    "from sklearn.ensemble import RandomForestClassifier\n",
    "from sklearn.model_selection import cross_val_score\n",
    "import numpy as np\n",
    "# Initialize a Random Forest classifier with 100 trees\n",
    "forest = RandomForestClassifier(verbose=2,n_jobs=-1,n_estimators = 60) \n",
    "# Fit the forest to the training set, using the bag of words as \n",
    "# features and the sentiment labels as the response variable\n",
    "#\n",
    "# This may take a few minutes to run\n",
    "print (\"Training the random forest...\")\n",
    "forest = forest.fit( train_data_fea_sm, y_Data )\n",
    "# random forest performance through cross vaidation \n"
   ]
  },
  {
   "cell_type": "code",
   "execution_count": null,
   "metadata": {},
   "outputs": [],
   "source": [
    "print (forest)\n",
    "print (np.mean(cross_val_score(forest,train_data_fea_sm,y_Data,cv=10)))"
   ]
  },
  {
   "cell_type": "code",
   "execution_count": null,
   "metadata": {},
   "outputs": [],
   "source": [
    "def pridictForRange(model,forFeatures,df, indexFrom, range,):\n",
    "    val_m = forFeatures[indexFrom:indexFrom+range]\n",
    "    df=df[indexFrom:indexFrom+range]\n",
    "    result = forest.predict(val_m)\n",
    "    for val in result:\n",
    "        df1= bData[bData['MAPPED_TO_LOWER']==val]\n",
    "        df1=df1.iloc[0]\n",
    "        mappto=df1[\"MAPPED_TO\"]\n",
    "        srctab = df1[\"TABLE_NAME\"]\n",
    "        srccol = df1[\"COLUMN_NAME\"]\n",
    "        dtype = df1[\"DATA_TYPE\"]\n",
    "        length = df1[\"LENGTH\"]\n",
    "        prec = df1[\"PRECISION\"]\n",
    "        print(\"(\"+str(val)+\")- Suggested mapping for Table.Column[\"+srctab+\".\"+srccol+\"] with \"+ dtype+\"|\"+str(length)+\"|\"+str(prec)+ \" is : \"+ mappto )\n",
    "\n",
    "    "
   ]
  },
  {
   "cell_type": "code",
   "execution_count": null,
   "metadata": {},
   "outputs": [],
   "source": [
    "pridictForRange(forest,train_data_features,bData, 40000, 11)"
   ]
  },
  {
   "cell_type": "code",
   "execution_count": null,
   "metadata": {},
   "outputs": [],
   "source": [
    "import pickle\n",
    "\n",
    "#\n",
    "# Create your model here (same as above)\n",
    "#\n",
    "\n",
    "# Save to file in the current working directory\n",
    "pkl_filename = \"pickle_model.pkl\"\n",
    "with open(pkl_filename, 'wb') as file:\n",
    "    pickle.dump(forest, file)"
   ]
  },
  {
   "cell_type": "code",
   "execution_count": null,
   "metadata": {},
   "outputs": [],
   "source": [
    "\n",
    "\n",
    "bData.to_csv(r'processedData.csv', index = False)\n"
   ]
  },
  {
   "cell_type": "code",
   "execution_count": null,
   "metadata": {},
   "outputs": [],
   "source": [
    "with open(pkl_filename, 'rb') as file:\n",
    "    pickle_model = pickle.load(file)"
   ]
  },
  {
   "cell_type": "code",
   "execution_count": null,
   "metadata": {},
   "outputs": [],
   "source": [
    "print(pickle_model.type())"
   ]
  },
  {
   "cell_type": "code",
   "execution_count": null,
   "metadata": {},
   "outputs": [],
   "source": [
    "model =RandomForestClassifier()"
   ]
  },
  {
   "cell_type": "code",
   "execution_count": null,
   "metadata": {},
   "outputs": [],
   "source": [
    "from flask import Flask, request, render_template\n",
    "import numpy as np \n",
    "import pandas as pd \n",
    "from sklearn.feature_extraction.text import CountVectorizer\n",
    "from nltk.corpus import stopwords\n",
    "from bs4 import BeautifulSoup\n",
    "import re\n",
    "from sklearn.ensemble import RandomForestClassifier\n",
    "import pickle\n"
   ]
  },
  {
   "cell_type": "code",
   "execution_count": null,
   "metadata": {},
   "outputs": [],
   "source": [
    "\n",
    "\n",
    "\n",
    "\n",
    "bData = pd.DataFrame()\n",
    "\n",
    "model =RandomForestClassifier()\n",
    "\n",
    "\n",
    "def hello_world():\n",
    "    bData = pd.read_csv('processedData.csv')\n",
    "    pkl_filename = \"pickle_model.pkl\"\n",
    "    # Load from file\n",
    "    print('hello')\n",
    "    \n",
    "   \n",
    "\n",
    "\n",
    "\n",
    "\n",
    "\n",
    "def pridictForRange(model,forFeatures,df):\n",
    "    val_m = forFeatures\n",
    "    result = pickle_model.predict(val_m)\n",
    "    for val in result:\n",
    "        df1= bData[bData['MAPPED_TO_LOWER']==val]\n",
    "        df1=df1.iloc[0]\n",
    "        mappto=df1[\"MAPPED_TO\"]\n",
    "        srctab = df1[\"TABLE_NAME\"]\n",
    "        srccol = df1[\"COLUMN_NAME\"]\n",
    "        dtype = df1[\"DATA_TYPE\"]\n",
    "        length = df1[\"LENGTH\"]\n",
    "        prec = df1[\"PRECISION\"]\n",
    "        print(\"(\"+str(val)+\")- Suggested mapping for Table.Column[\"+srctab+\".\"+srccol+\"] with \"+ dtype+\"|\"+str(length)+\"|\"+str(prec)+ \" is : \"+ mappto )\n",
    "\n",
    "\n",
    "def review_to_words( raw_review ):\n",
    "    # Function to convert a raw review to a string of words\n",
    "    # The input is a single string (a raw movie review), and \n",
    "    # the output is a single string (a preprocessed movie review)\n",
    "    #\n",
    "    # 1. Remove HTML\n",
    "    review_text = BeautifulSoup(raw_review).get_text() \n",
    "    #\n",
    "    # 2. Remove non-letters and numbers       \n",
    "    letters_only = re.sub(\"[^a-zA-Z0-9]\", \" \", review_text) \n",
    "    #\n",
    "    # 3. Convert to lower case, split into individual words\n",
    "    words = letters_only.lower().split()                             \n",
    "    #\n",
    "    # 4. In Python, searching a set is much faster than searching\n",
    "    #   a list, so convert the stop words to a set\n",
    "    stops = set(stopwords.words(\"english\"))                  \n",
    "    # \n",
    "    # 5. Remove stop words\n",
    "    meaningful_words = [w for w in words if not w in stops]   \n",
    "    #\n",
    "    # 6. Join the words back into one string separated by space, \n",
    "    # and return the result.\n",
    "    return( \" \".join( meaningful_words ))  \n",
    "\n",
    "def combineColumns(df):\n",
    "    df['MAP_FOR_COL']=  df['TABLE_NAME'] + '|'+ df['COLUMN_NAME'] + '|'+ df['DATA_TYPE'] +  '|'+df['LENGTH'] + '|'+ df['PRECISION']\n",
    "    return df\n",
    "\n",
    "def getFeatures(df):\n",
    "    # Get the number of reviews based on the dataframe column size\n",
    "    num_reviews = df[\"MAP_FOR_COL\"].size\n",
    "\n",
    "    # Initialize an empty list to hold the clean reviews\n",
    "    clean_train_reviews = []\n",
    "\n",
    "    # Loop over each review; create an index i that goes from 0 to the length\n",
    "    # of the movie review list \n",
    "    for i in range( 0, num_reviews ):\n",
    "        # Call our function for each one, and add the result to the list of\n",
    "        # clean reviews\n",
    "        clean_train_reviews.append(review_to_words( df[\"MAP_FOR_COL\"][i]))\n",
    "    print(clean_train_reviews[0])\n",
    "    # Initialize the \"CountVectorizer\" object, which is scikit-learn's\n",
    "    # bag of words tool.  \n",
    "    vectorizer = CountVectorizer(analyzer = \"word\",   \\\n",
    "                                tokenizer = None,    \\\n",
    "                                preprocessor = None, \\\n",
    "                                stop_words = None,   \\\n",
    "                                max_features = 5000) \n",
    "\n",
    "    # fit_transform() does two functions: First, it fits the model\n",
    "    # and learns the vocabulary; second, it transforms our training data\n",
    "    # into feature vectors. The input to fit_transform should be a list of \n",
    "    # strings.\n",
    "    train_data_features = vectorizer.fit_transform(clean_train_reviews)\n",
    "\n",
    "    # Numpy arrays are easy to work with, so convert the result to an \n",
    "    # array\n",
    "    train_data_features = train_data_features.toarray()\n",
    "\n",
    "    return train_data_features\n",
    "\n",
    "\n",
    "\n"
   ]
  },
  {
   "cell_type": "code",
   "execution_count": null,
   "metadata": {},
   "outputs": [],
   "source": [
    "def upload():\n",
    "    hello_world()\n",
    "    df = pd.read_csv('testData12.csv')\n",
    "    df['LENGTH']= df['LENGTH'].astype(str)\n",
    "    df['PRECISION']= df['PRECISION'].astype(str)\n",
    "    df = combineColumns(df)\n",
    "    #print(df)\n",
    "    train_data_features=getFeatures(df)\n",
    "    print(model)\n",
    "    pridictForRange(model,train_data_features,bData)\n",
    "\n",
    "    return df.shape\n"
   ]
  },
  {
   "cell_type": "code",
   "execution_count": null,
   "metadata": {},
   "outputs": [],
   "source": [
    "print(upload())"
   ]
  },
  {
   "cell_type": "code",
   "execution_count": null,
   "metadata": {},
   "outputs": [],
   "source": [
    "import nltk\n",
    "import sklearn\n",
    "print('The nltk version is {}.'.format(nltk.__version__))\n",
    "print('The scikit-learn version is {}.'.format(sklearn.__version__))\n"
   ]
  },
  {
   "cell_type": "code",
   "execution_count": null,
   "metadata": {},
   "outputs": [],
   "source": [
    "pip install scikit-learn==0.24.1"
   ]
  },
  {
   "cell_type": "code",
   "execution_count": null,
   "metadata": {},
   "outputs": [],
   "source": []
  }
 ],
 "metadata": {
  "kernelspec": {
   "name": "python383jvsc74a57bd0dca0ade3e726a953b501b15e8e990130d2b7799f14cfd9f4271676035ebe5511",
   "display_name": "Python 3.8.3 64-bit ('base': conda)"
  },
  "language_info": {
   "codemirror_mode": {
    "name": "ipython",
    "version": 3
   },
   "file_extension": ".py",
   "mimetype": "text/x-python",
   "name": "python",
   "nbconvert_exporter": "python",
   "pygments_lexer": "ipython3",
   "version": "3.8.3"
  },
  "toc": {
   "base_numbering": 1,
   "nav_menu": {},
   "number_sections": true,
   "sideBar": true,
   "skip_h1_title": false,
   "title_cell": "Table of Contents",
   "title_sidebar": "Contents",
   "toc_cell": false,
   "toc_position": {},
   "toc_section_display": true,
   "toc_window_display": false
  }
 },
 "nbformat": 4,
 "nbformat_minor": 4
}